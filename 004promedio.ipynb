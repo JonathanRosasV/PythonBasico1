{
  "nbformat": 4,
  "nbformat_minor": 0,
  "metadata": {
    "colab": {
      "provenance": [],
      "authorship_tag": "ABX9TyPGIq2OKGRD4I+1mQF5dB8o"
    },
    "kernelspec": {
      "name": "python3",
      "display_name": "Python 3"
    },
    "language_info": {
      "name": "python"
    }
  },
  "cells": [
    {
      "cell_type": "code",
      "execution_count": null,
      "metadata": {
        "id": "b_Pq3NpIzgxb"
      },
      "outputs": [],
      "source": [
        "# Este programa te ayudara a calcular tu promedio final del curso\n",
        "\n",
        "print('Este programa calcula el promedio de nota de un alumno:\\n')\n",
        "nombre = input('Escribe tu nombre: ')\n",
        "parcial1 = float(input('Escribe tu nota del parcial 1: '))\n",
        "parcial2 = float(input('Escribe tu nota del parcial 2: '))\n",
        "final = float(input('Escribe tu nota del final: '))\n",
        "\n",
        "prom = (parcial1 + parcial2 + final)/3\n",
        "print(f'{nombre}, tu promedio es: ', round(prom,2))"
      ]
    }
  ]
}