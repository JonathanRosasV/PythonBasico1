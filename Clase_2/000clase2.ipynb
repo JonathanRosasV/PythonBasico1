{
 "cells": [
  {
   "cell_type": "markdown",
   "id": "55750665",
   "metadata": {},
   "source": [
    "# 3. Estructuras de Control"
   ]
  },
  {
   "cell_type": "markdown",
   "id": "c7416427",
   "metadata": {},
   "source": [
    "### Funciones en Python: `def`, Parámetros, Retorno de Valores, y Docstrings"
   ]
  },
  {
   "cell_type": "markdown",
   "id": "893c94fe",
   "metadata": {},
   "source": [
    "En esta notebook se explica cada uno de estos conceptos relacionados con **funciones** en Python:"
   ]
  },
  {
   "cell_type": "markdown",
   "id": "de6ca85d",
   "metadata": {},
   "source": [
    "## 1. Funciones (`def`)"
   ]
  },
  {
   "cell_type": "markdown",
   "id": "6182641b",
   "metadata": {},
   "source": [
    "Una función en Python es un bloque de código reutilizable que realiza una tarea específica. Se define utilizando la palabra clave `def`, seguida del nombre de la función y los paréntesis `()`.\n"
   ]
  },
  {
   "cell_type": "code",
   "execution_count": 1,
   "id": "de215101",
   "metadata": {},
   "outputs": [
    {
     "name": "stdout",
     "output_type": "stream",
     "text": [
      "¡Hola!\n"
     ]
    }
   ],
   "source": [
    "# Ejemplo de función simple\n",
    "def saludar():\n",
    "    print(\"¡Hola!\")\n",
    "\n",
    "# Llamada a la función\n",
    "saludar()\n"
   ]
  },
  {
   "cell_type": "markdown",
   "id": "169c627d",
   "metadata": {},
   "source": [
    "## 2. Parámetros"
   ]
  },
  {
   "cell_type": "markdown",
   "id": "7884827b",
   "metadata": {},
   "source": [
    "Los **parámetros** son variables que se definen en la función y permiten pasar información desde fuera de la función. Los valores que se pasan cuando se llama a la función se conocen como **argumentos**."
   ]
  },
  {
   "cell_type": "code",
   "execution_count": 2,
   "id": "2ee72cdd",
   "metadata": {},
   "outputs": [
    {
     "name": "stdout",
     "output_type": "stream",
     "text": [
      "¡Hola, Ana!\n"
     ]
    }
   ],
   "source": [
    "# Ejemplo de función con parámetro\n",
    "def saludar(nombre):\n",
    "    print(f\"¡Hola, {nombre}!\")\n",
    "\n",
    "# Llamada a la función con un argumento\n",
    "saludar(\"Ana\")"
   ]
  },
  {
   "cell_type": "markdown",
   "id": "d629609b",
   "metadata": {},
   "source": [
    "## 3. Retorno de Valores"
   ]
  },
  {
   "cell_type": "markdown",
   "id": "66e4e67e",
   "metadata": {},
   "source": [
    "El **retorno** permite que una función devuelva un resultado a la parte del código que la llamó. En Python, esto se hace con la palabra clave `return`. Esto es útil cuando necesitas que la función realice un cálculo o manipulación y te entregue el resultado."
   ]
  },
  {
   "cell_type": "code",
   "execution_count": 3,
   "id": "3a5dbbcd",
   "metadata": {},
   "outputs": [
    {
     "name": "stdout",
     "output_type": "stream",
     "text": [
      "8\n"
     ]
    }
   ],
   "source": [
    "# Ejemplo de función con retorno de valores\n",
    "def sumar(a, b):\n",
    "    return a + b\n",
    "\n",
    "# Llamada a la función y almacenamiento del resultado\n",
    "resultado = sumar(5, 3)\n",
    "print(resultado)  # Imprime: 8"
   ]
  },
  {
   "cell_type": "markdown",
   "id": "5499f525",
   "metadata": {},
   "source": [
    "## 4. Docstrings"
   ]
  },
  {
   "cell_type": "markdown",
   "id": "56773f21",
   "metadata": {},
   "source": [
    "\n",
    "Un **docstring** es una cadena de texto que se usa para documentar la función. Describe qué hace la función y, generalmente, se coloca como el primer elemento dentro de la función entre triple comillas (``). Los docstrings ayudan a otros programadores (o a ti mismo) a entender la función cuando consultan la documentación."
   ]
  },
  {
   "cell_type": "code",
   "execution_count": 4,
   "id": "24b7b14e",
   "metadata": {},
   "outputs": [
    {
     "name": "stdout",
     "output_type": "stream",
     "text": [
      "Help on function saludar in module __main__:\n",
      "\n",
      "saludar(nombre)\n",
      "    Esta función saluda a la persona cuyo nombre se pasa como parámetro.\n",
      "    \n",
      "    Parámetros:\n",
      "    nombre (str): El nombre de la persona a saludar.\n",
      "    \n",
      "    Retorna:\n",
      "    None\n",
      "\n"
     ]
    }
   ],
   "source": [
    "# Ejemplo de función con docstring\n",
    "def saludar(nombre):\n",
    "    \"\"\"\n",
    "    Esta función saluda a la persona cuyo nombre se pasa como parámetro.\n",
    "    \n",
    "    Parámetros:\n",
    "    nombre (str): El nombre de la persona a saludar.\n",
    "    \n",
    "    Retorna:\n",
    "    None\n",
    "    \"\"\"\n",
    "    print(f\"¡Hola, {nombre}!\")\n",
    "\n",
    "# Acceder al docstring de la función\n",
    "help(saludar)"
   ]
  },
  {
   "cell_type": "markdown",
   "id": "17f7c358",
   "metadata": {},
   "source": [
    "# 4. Estructuras de Datos en Python"
   ]
  },
  {
   "cell_type": "markdown",
   "id": "4037f1b6",
   "metadata": {},
   "source": [
    "### Listas y Tuplas en Python"
   ]
  },
  {
   "cell_type": "markdown",
   "id": "c4db4bde",
   "metadata": {},
   "source": [
    "**Listas** y **tuplas** son tipos de estructuras de datos en Python que permiten almacenar múltiples elementos en una sola variable. Ambas tienen algunas similitudes, pero también importantes diferencias."
   ]
  },
  {
   "cell_type": "markdown",
   "id": "4d790848",
   "metadata": {},
   "source": [
    "### Lista"
   ]
  },
  {
   "cell_type": "markdown",
   "id": "bd83b36e",
   "metadata": {},
   "source": [
    "- **Definición**: Una lista es una colección ordenada y **mutable** de elementos. Esto significa que puedes cambiar, agregar o eliminar elementos después de crear la lista.\n",
    "- **Sintaxis**: Las listas se definen utilizando corchetes `[]`.\n",
    "- **Ejemplo**:"
   ]
  },
  {
   "cell_type": "code",
   "execution_count": 5,
   "id": "6b573828",
   "metadata": {},
   "outputs": [
    {
     "data": {
      "text/plain": [
       "['manzana', 'banana', 'naranja']"
      ]
     },
     "execution_count": 5,
     "metadata": {},
     "output_type": "execute_result"
    }
   ],
   "source": [
    "# Ejemplo de lista\n",
    "frutas = [\"manzana\", \"banana\", \"naranja\"]\n",
    "frutas"
   ]
  },
  {
   "cell_type": "markdown",
   "id": "be32cbb1",
   "metadata": {},
   "source": [
    "- **Características**:\n",
    "  - **Mutable**: Puedes modificar sus elementos después de crearla.\n",
    "  - **Ordenada**: Los elementos tienen un orden específico y puedes acceder a cada elemento por su posición (índice).\n",
    "  - **Funciones comunes**: `.append()`, `.remove()`, `.insert()`, `.pop()`, etc.\n",
    "\n",
    "- **Ejemplo de modificación**:"
   ]
  },
  {
   "cell_type": "code",
   "execution_count": 6,
   "id": "85f870d7",
   "metadata": {},
   "outputs": [
    {
     "data": {
      "text/plain": [
       "['pera', 'banana', 'naranja', 'mango']"
      ]
     },
     "execution_count": 6,
     "metadata": {},
     "output_type": "execute_result"
    }
   ],
   "source": [
    "# Modificar la lista\n",
    "frutas[0] = \"pera\"  # Cambia \"manzana\" por \"pera\"\n",
    "frutas.append(\"mango\")  # Agrega \"mango\" al final de la lista\n",
    "frutas"
   ]
  },
  {
   "cell_type": "markdown",
   "id": "edc0e6c0",
   "metadata": {},
   "source": [
    "### Tupla"
   ]
  },
  {
   "cell_type": "markdown",
   "id": "1c05c3bf",
   "metadata": {},
   "source": [
    "- **Definición**: Una tupla es una colección ordenada e **inmutable** de elementos. Esto significa que una vez creada, no puedes cambiar, agregar o eliminar sus elementos.\n",
    "- **Sintaxis**: Las tuplas se definen utilizando paréntesis `()`.\n",
    "- **Ejemplo**:"
   ]
  },
  {
   "cell_type": "code",
   "execution_count": 7,
   "id": "394b3cb3",
   "metadata": {},
   "outputs": [
    {
     "data": {
      "text/plain": [
       "('rojo', 'verde', 'azul')"
      ]
     },
     "execution_count": 7,
     "metadata": {},
     "output_type": "execute_result"
    }
   ],
   "source": [
    "# Ejemplo de tupla\n",
    "colores = (\"rojo\", \"verde\", \"azul\")\n",
    "colores"
   ]
  },
  {
   "cell_type": "markdown",
   "id": "5ad13ec8",
   "metadata": {},
   "source": [
    "- **Características**:\n",
    "  - **Inmutable**: No puedes modificar sus elementos después de crearla.\n",
    "  - **Ordenada**: Los elementos tienen un orden específico y se accede a ellos por su posición (índice).\n",
    "  - **Funciones comunes**: `.count()`, `.index()`, pero no permite agregar o eliminar elementos.\n",
    "\n",
    "- **Ventaja de las tuplas**: Su inmutabilidad las hace más rápidas y seguras en ciertos contextos donde los datos no deben cambiar.\n"
   ]
  },
  {
   "cell_type": "markdown",
   "id": "81e2383f",
   "metadata": {},
   "source": [
    "### Comparación entre Lista y Tupla\n",
    "| Característica     | Lista                                | Tupla                                |\n",
    "|--------------------|--------------------------------------|--------------------------------------|\n",
    "| Mutabilidad       | Mutable                              | Inmutable                            |\n",
    "| Sintaxis          | `[]`                                 | `()`                                 |\n",
    "| Modificación      | Se puede modificar después de crear  | No se puede modificar                |\n",
    "| Usos comunes      | Cuando necesitas cambiar los datos   | Cuando los datos deben ser constantes|\n"
   ]
  },
  {
   "cell_type": "markdown",
   "id": "6300ff2c",
   "metadata": {},
   "source": [
    "### Ejemplo comparativo"
   ]
  },
  {
   "cell_type": "code",
   "execution_count": 8,
   "id": "d58dba87",
   "metadata": {},
   "outputs": [
    {
     "data": {
      "text/plain": [
       "['pera', 'banana', 'naranja']"
      ]
     },
     "execution_count": 8,
     "metadata": {},
     "output_type": "execute_result"
    }
   ],
   "source": [
    "# Lista\n",
    "frutas = [\"manzana\", \"banana\", \"naranja\"]\n",
    "frutas[0] = \"pera\"  # Modificación permitida\n",
    "frutas"
   ]
  },
  {
   "cell_type": "code",
   "execution_count": 9,
   "id": "e0d74a57",
   "metadata": {},
   "outputs": [
    {
     "data": {
      "text/plain": [
       "('rojo', 'verde', 'azul')"
      ]
     },
     "execution_count": 9,
     "metadata": {},
     "output_type": "execute_result"
    }
   ],
   "source": [
    "# Tupla\n",
    "colores = (\"rojo\", \"verde\", \"azul\")\n",
    "# colores[0] = \"amarillo\"  # Esto daría un error, ya que las tuplas son inmutables\n",
    "colores"
   ]
  },
  {
   "cell_type": "markdown",
   "id": "5047cc80",
   "metadata": {},
   "source": [
    "### Diccionarios en Python\n"
   ]
  },
  {
   "cell_type": "markdown",
   "id": "28560c33",
   "metadata": {},
   "source": [
    "Los **diccionarios** en Python son estructuras de datos que almacenan pares de **clave** y **valor**. Son útiles para relacionar datos, como nombres y números de teléfono, nombres de estudiantes y sus calificaciones, etc."
   ]
  },
  {
   "cell_type": "markdown",
   "id": "8ac488e0",
   "metadata": {},
   "source": [
    "### Características de los diccionarios"
   ]
  },
  {
   "cell_type": "markdown",
   "id": "2985abdf",
   "metadata": {},
   "source": [
    "\n",
    "1. **Claves únicas**: Cada clave en un diccionario debe ser única. No puedes tener dos claves iguales.\n",
    "2. **Mutables**: Puedes modificar, agregar o eliminar elementos en un diccionario después de crearlo.\n",
    "3. **No ordenados**: En versiones anteriores a Python 3.7, los diccionarios no mantenían el orden de los elementos. En Python 3.7 y versiones posteriores, los elementos permanecen en el orden de inserción."
   ]
  },
  {
   "cell_type": "markdown",
   "id": "f4f4a914",
   "metadata": {},
   "source": [
    "### Sintaxis y Ejemplo"
   ]
  },
  {
   "cell_type": "code",
   "execution_count": 10,
   "id": "5801d7f4",
   "metadata": {},
   "outputs": [
    {
     "data": {
      "text/plain": [
       "{'nombre': 'Ana', 'edad': 20, 'carrera': 'Ingeniería'}"
      ]
     },
     "execution_count": 10,
     "metadata": {},
     "output_type": "execute_result"
    }
   ],
   "source": [
    "# Definición de un diccionario\n",
    "estudiante = {\n",
    "    \"nombre\": \"Ana\",\n",
    "    \"edad\": 20,\n",
    "    \"carrera\": \"Ingeniería\"\n",
    "}\n",
    "estudiante"
   ]
  },
  {
   "cell_type": "markdown",
   "id": "eccb7d84",
   "metadata": {},
   "source": [
    "### Acceso a los valores"
   ]
  },
  {
   "cell_type": "code",
   "execution_count": 11,
   "id": "2c3915bb",
   "metadata": {},
   "outputs": [
    {
     "name": "stdout",
     "output_type": "stream",
     "text": [
      "Ana\n",
      "20\n"
     ]
    }
   ],
   "source": [
    "# Acceder a valores en el diccionario\n",
    "print(estudiante[\"nombre\"])  # Acceso directo por clave\n",
    "print(estudiante.get(\"edad\"))  # Uso del método get para obtener el valor"
   ]
  },
  {
   "cell_type": "markdown",
   "id": "15f5e570",
   "metadata": {},
   "source": [
    "### Modificación de valores"
   ]
  },
  {
   "cell_type": "code",
   "execution_count": 12,
   "id": "2c5d9df3",
   "metadata": {},
   "outputs": [
    {
     "data": {
      "text/plain": [
       "{'nombre': 'Ana', 'edad': 21, 'carrera': 'Ingeniería'}"
      ]
     },
     "execution_count": 12,
     "metadata": {},
     "output_type": "execute_result"
    }
   ],
   "source": [
    "# Modificar un valor en el diccionario\n",
    "estudiante[\"edad\"] = 21  # Cambia la edad a 21\n",
    "estudiante"
   ]
  },
  {
   "cell_type": "markdown",
   "id": "e33bd559",
   "metadata": {},
   "source": [
    "### Agregar y eliminar elementos"
   ]
  },
  {
   "cell_type": "code",
   "execution_count": 13,
   "id": "75c6937e",
   "metadata": {},
   "outputs": [
    {
     "data": {
      "text/plain": [
       "{'nombre': 'Ana', 'edad': 21, 'promedio': 17.5}"
      ]
     },
     "execution_count": 13,
     "metadata": {},
     "output_type": "execute_result"
    }
   ],
   "source": [
    "# Agregar una nueva clave-valor\n",
    "estudiante[\"promedio\"] = 17.5\n",
    "# Eliminar un elemento\n",
    "del estudiante[\"carrera\"]  # Elimina la clave \"carrera\"\n",
    "estudiante"
   ]
  },
  {
   "cell_type": "markdown",
   "id": "611473d9",
   "metadata": {},
   "source": [
    "### Ejemplo completo de operaciones con diccionarios"
   ]
  },
  {
   "cell_type": "code",
   "execution_count": 14,
   "id": "fe7c5647",
   "metadata": {},
   "outputs": [
    {
     "name": "stdout",
     "output_type": "stream",
     "text": [
      "Nombre: Ana\n",
      "Edad: 20\n",
      "Diccionario resultante: {'nombre': 'Ana', 'edad': 21, 'promedio': 17.5}\n"
     ]
    }
   ],
   "source": [
    "# Crear un diccionario de ejemplo\n",
    "estudiante = {\n",
    "    \"nombre\": \"Ana\",\n",
    "    \"edad\": 20,\n",
    "    \"carrera\": \"Ingeniería\"\n",
    "}\n",
    "\n",
    "# Acceder a valores\n",
    "print(\"Nombre:\", estudiante[\"nombre\"])  # Acceso directo\n",
    "print(\"Edad:\", estudiante.get(\"edad\"))  # Uso de get\n",
    "\n",
    "# Modificar un valor\n",
    "estudiante[\"edad\"] = 21\n",
    "\n",
    "# Agregar un nuevo par clave-valor\n",
    "estudiante[\"promedio\"] = 17.5\n",
    "\n",
    "# Eliminar un elemento\n",
    "del estudiante[\"carrera\"]\n",
    "\n",
    "# Mostrar el diccionario resultante\n",
    "print(\"Diccionario resultante:\", estudiante)\n"
   ]
  }
 ],
 "metadata": {
  "kernelspec": {
   "display_name": "Python 3",
   "language": "python",
   "name": "python3"
  },
  "language_info": {
   "codemirror_mode": {
    "name": "ipython",
    "version": 3
   },
   "file_extension": ".py",
   "mimetype": "text/x-python",
   "name": "python",
   "nbconvert_exporter": "python",
   "pygments_lexer": "ipython3",
   "version": "3.10.11"
  }
 },
 "nbformat": 4,
 "nbformat_minor": 5
}
