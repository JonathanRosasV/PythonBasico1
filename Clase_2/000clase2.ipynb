{
 "cells": [
  {
   "cell_type": "markdown",
   "id": "17f7c358",
   "metadata": {},
   "source": [
    "# 4. Estructuras de Datos en Python"
   ]
  },
  {
   "cell_type": "markdown",
   "id": "4037f1b6",
   "metadata": {},
   "source": [
    "### Listas y Tuplas en Python"
   ]
  },
  {
   "cell_type": "markdown",
   "id": "c4db4bde",
   "metadata": {},
   "source": [
    "**Listas** y **tuplas** son tipos de estructuras de datos en Python que permiten almacenar múltiples elementos en una sola variable. Ambas tienen algunas similitudes, pero también importantes diferencias."
   ]
  },
  {
   "cell_type": "markdown",
   "id": "4d790848",
   "metadata": {},
   "source": [
    "### Lista"
   ]
  },
  {
   "cell_type": "markdown",
   "id": "bd83b36e",
   "metadata": {},
   "source": [
    "- **Definición**: Una lista es una colección ordenada y **mutable** de elementos. Esto significa que puedes cambiar, agregar o eliminar elementos después de crear la lista.\n",
    "- **Sintaxis**: Las listas se definen utilizando corchetes `[]`.\n",
    "- **Ejemplo**:"
   ]
  },
  {
   "cell_type": "code",
   "execution_count": 22,
   "id": "6b573828",
   "metadata": {},
   "outputs": [
    {
     "data": {
      "text/plain": [
       "['manzana', 'banana', 'naranja']"
      ]
     },
     "execution_count": 22,
     "metadata": {},
     "output_type": "execute_result"
    }
   ],
   "source": [
    "# Ejemplo de lista\n",
    "frutas = [\"manzana\", \"banana\", \"naranja\"]\n",
    "frutas"
   ]
  },
  {
   "cell_type": "markdown",
   "id": "be32cbb1",
   "metadata": {},
   "source": [
    "- **Características**:\n",
    "  - **Mutable**: Puedes modificar sus elementos después de crearla.\n",
    "  - **Ordenada**: Los elementos tienen un orden específico y puedes acceder a cada elemento por su posición (índice).\n",
    "  - **Funciones comunes**: `.append()`, `.remove()`, `.insert()`, `.pop()`, etc.\n",
    "\n",
    "- **Ejemplo de modificación**:"
   ]
  },
  {
   "cell_type": "code",
   "execution_count": 23,
   "id": "85f870d7",
   "metadata": {},
   "outputs": [
    {
     "data": {
      "text/plain": [
       "['pera', 'banana', 'naranja', 'mango']"
      ]
     },
     "execution_count": 23,
     "metadata": {},
     "output_type": "execute_result"
    }
   ],
   "source": [
    "# Modificar la lista\n",
    "frutas[0] = \"pera\"  # Cambia \"manzana\" por \"pera\"\n",
    "frutas.append(\"mango\")  # Agrega \"mango\" al final de la lista\n",
    "frutas"
   ]
  },
  {
   "cell_type": "markdown",
   "id": "edc0e6c0",
   "metadata": {},
   "source": [
    "### Tupla"
   ]
  },
  {
   "cell_type": "markdown",
   "id": "1c05c3bf",
   "metadata": {},
   "source": [
    "- **Definición**: Una tupla es una colección ordenada e **inmutable** de elementos. Esto significa que una vez creada, no puedes cambiar, agregar o eliminar sus elementos.\n",
    "- **Sintaxis**: Las tuplas se definen utilizando paréntesis `()`.\n",
    "- **Ejemplo**:"
   ]
  },
  {
   "cell_type": "code",
   "execution_count": 24,
   "id": "394b3cb3",
   "metadata": {},
   "outputs": [
    {
     "data": {
      "text/plain": [
       "('rojo', 'verde', 'azul')"
      ]
     },
     "execution_count": 24,
     "metadata": {},
     "output_type": "execute_result"
    }
   ],
   "source": [
    "# Ejemplo de tupla\n",
    "colores = (\"rojo\", \"verde\", \"azul\")\n",
    "colores"
   ]
  },
  {
   "cell_type": "markdown",
   "id": "5ad13ec8",
   "metadata": {},
   "source": [
    "- **Características**:\n",
    "  - **Inmutable**: No puedes modificar sus elementos después de crearla.\n",
    "  - **Ordenada**: Los elementos tienen un orden específico y se accede a ellos por su posición (índice).\n",
    "  - **Funciones comunes**: `.count()`, `.index()`, pero no permite agregar o eliminar elementos.\n",
    "\n",
    "- **Ventaja de las tuplas**: Su inmutabilidad las hace más rápidas y seguras en ciertos contextos donde los datos no deben cambiar.\n"
   ]
  },
  {
   "cell_type": "markdown",
   "id": "81e2383f",
   "metadata": {},
   "source": [
    "### Comparación entre Lista y Tupla\n",
    "| Característica     | Lista                                | Tupla                                |\n",
    "|--------------------|--------------------------------------|--------------------------------------|\n",
    "| Mutabilidad       | Mutable                              | Inmutable                            |\n",
    "| Sintaxis          | `[]`                                 | `()`                                 |\n",
    "| Modificación      | Se puede modificar después de crear  | No se puede modificar                |\n",
    "| Usos comunes      | Cuando necesitas cambiar los datos   | Cuando los datos deben ser constantes|\n"
   ]
  },
  {
   "cell_type": "markdown",
   "id": "6300ff2c",
   "metadata": {},
   "source": [
    "### Ejemplo comparativo"
   ]
  },
  {
   "cell_type": "code",
   "execution_count": 25,
   "id": "d58dba87",
   "metadata": {},
   "outputs": [
    {
     "data": {
      "text/plain": [
       "['pera', 'banana', 'naranja']"
      ]
     },
     "execution_count": 25,
     "metadata": {},
     "output_type": "execute_result"
    }
   ],
   "source": [
    "# Lista\n",
    "frutas = [\"manzana\", \"banana\", \"naranja\"]\n",
    "frutas[0] = \"pera\"  # Modificación permitida\n",
    "frutas"
   ]
  },
  {
   "cell_type": "code",
   "execution_count": 26,
   "id": "e0d74a57",
   "metadata": {},
   "outputs": [
    {
     "data": {
      "text/plain": [
       "('rojo', 'verde', 'azul')"
      ]
     },
     "execution_count": 26,
     "metadata": {},
     "output_type": "execute_result"
    }
   ],
   "source": [
    "# Tupla\n",
    "colores = (\"rojo\", \"verde\", \"azul\")\n",
    "# colores[0] = \"amarillo\"  # Esto daría un error, ya que las tuplas son inmutables\n",
    "colores"
   ]
  },
  {
   "cell_type": "markdown",
   "id": "5047cc80",
   "metadata": {},
   "source": [
    "### Resumen\n",
    "- **Lista**: Útil cuando necesitas una colección que pueda cambiarse.\n",
    "- **Tupla**: Útil para datos constantes que no deben ser modificados.\n"
   ]
  }
 ],
 "metadata": {
  "kernelspec": {
   "display_name": "Python 3",
   "language": "python",
   "name": "python3"
  },
  "language_info": {
   "codemirror_mode": {
    "name": "ipython",
    "version": 3
   },
   "file_extension": ".py",
   "mimetype": "text/x-python",
   "name": "python",
   "nbconvert_exporter": "python",
   "pygments_lexer": "ipython3",
   "version": "3.10.11"
  }
 },
 "nbformat": 4,
 "nbformat_minor": 5
}
