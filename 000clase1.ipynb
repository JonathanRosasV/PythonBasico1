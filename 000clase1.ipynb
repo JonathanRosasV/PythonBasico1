{
 "cells": [
  {
   "cell_type": "markdown",
   "metadata": {},
   "source": [
    "# 2. Sintaxis Básica en Python\n",
    "\n",
    "## 1. Comentarios y Convenciones de Nomenclatura\n",
    "\n",
    "En Python, los comentarios se crean utilizando el símbolo `#`. Todo lo que esté en una línea después de `#` será ignorado por el intérprete.\n",
    "\n",
    "```python\n",
    "# Esto es un comentario en Python"
   ]
  },
  {
   "cell_type": "markdown",
   "metadata": {},
   "source": [
    "### Convenciones de nomenclatura comunes:\n",
    "\n",
    "- Las variables en Python suelen escribirse en `snake_case`, separando las palabras con guiones bajos (`_`).\n",
    "- Los nombres de variables deben ser descriptivos pero breves y deben comenzar con una letra o un guion bajo (nunca un número).\n",
    "\n",
    "**Ejemplo de nombres de variables:**"
   ]
  },
  {
   "cell_type": "code",
   "execution_count": 13,
   "metadata": {},
   "outputs": [],
   "source": [
    "nombre_usuario = \"Juan\"\n",
    "edad = 25\n",
    "es_estudiante = True\n"
   ]
  },
  {
   "cell_type": "markdown",
   "metadata": {},
   "source": [
    "## 2. Variables y Tipos de Datos\n",
    "\n",
    "En Python, no es necesario declarar el tipo de una variable. Se asigna automáticamente según el valor.\n",
    "\n",
    "### Tipos de Datos Básicos:\n",
    "\n",
    "- **Enteros (`int`)**:\n",
    "```python\n",
    "entero = 10\n",
    "print(\"Entero:\", entero)"
   ]
  },
  {
   "cell_type": "code",
   "execution_count": 14,
   "metadata": {},
   "outputs": [
    {
     "name": "stdout",
     "output_type": "stream",
     "text": [
      "Entero: 10\n"
     ]
    }
   ],
   "source": [
    "entero = 10\n",
    "print(\"Entero:\", entero)\n"
   ]
  },
  {
   "cell_type": "markdown",
   "metadata": {},
   "source": [
    "- **Flotantes (`float`)**:\n",
    "```python\n",
    "flotante = 3.14\n",
    "print(\"Flotante:\", flotante)\n"
   ]
  },
  {
   "cell_type": "code",
   "execution_count": 15,
   "metadata": {},
   "outputs": [
    {
     "name": "stdout",
     "output_type": "stream",
     "text": [
      "Flotante: 3.14\n"
     ]
    }
   ],
   "source": [
    "flotante = 3.14\n",
    "print(\"Flotante:\", flotante)\n"
   ]
  },
  {
   "cell_type": "markdown",
   "metadata": {},
   "source": [
    "- **Cadenas de Texto (`str`)**:\n",
    "```python\n",
    "cadena = \"Hola, Python!\"\n",
    "print(\"Cadena:\", cadena)\n"
   ]
  },
  {
   "cell_type": "code",
   "execution_count": 16,
   "metadata": {},
   "outputs": [
    {
     "name": "stdout",
     "output_type": "stream",
     "text": [
      "Cadena: Hola, Python!\n"
     ]
    }
   ],
   "source": [
    "cadena = \"Hola, Python!\"\n",
    "print(\"Cadena:\", cadena)\n"
   ]
  },
  {
   "cell_type": "markdown",
   "metadata": {},
   "source": [
    "- **Booleanos (`bool`)**:\n",
    "```python\n",
    "booleano_verdadero = True\n",
    "booleano_falso = False\n",
    "print(\"Booleano Verdadero:\", booleano_verdadero)\n",
    "print(\"Booleano Falso:\", booleano_falso)\n"
   ]
  },
  {
   "cell_type": "code",
   "execution_count": 17,
   "metadata": {},
   "outputs": [
    {
     "name": "stdout",
     "output_type": "stream",
     "text": [
      "Booleano Verdadero: True\n",
      "Booleano Falso: False\n"
     ]
    }
   ],
   "source": [
    "booleano_verdadero = True\n",
    "booleano_falso = False\n",
    "print(\"Booleano Verdadero:\", booleano_verdadero)\n",
    "print(\"Booleano Falso:\", booleano_falso)\n"
   ]
  },
  {
   "cell_type": "markdown",
   "metadata": {},
   "source": [
    "## 3. Operadores Aritméticos, Relacionales y Lógicos\n",
    "\n",
    "- ### Operadores Aritméticos\n",
    "Estos operadores se utilizan para realizar operaciones matemáticas básicas.\n"
   ]
  },
  {
   "cell_type": "code",
   "execution_count": null,
   "metadata": {},
   "outputs": [],
   "source": [
    "a = 10\n",
    "b = 3\n",
    "print(\"Suma:\", a + b)\n",
    "print(\"Resta:\", a - b)\n",
    "print(\"Multiplicación:\", a * b)\n",
    "print(\"División:\", a / b)\n",
    "print(\"Módulo (Residuo):\", a % b)\n",
    "print(\"Exponenciación:\", a ** b)\n",
    "print(\"División Entera:\", a // b)"
   ]
  },
  {
   "cell_type": "markdown",
   "metadata": {},
   "source": [
    "- ### Operadores Relacionales\n",
    "Los operadores relacionales comparan dos valores y devuelven un valor booleano (`True` o `False`).\n"
   ]
  },
  {
   "cell_type": "code",
   "execution_count": null,
   "metadata": {},
   "outputs": [],
   "source": [
    "print(\"Igual a (==):\", a == b)\n",
    "print(\"Diferente de (!=):\", a != b)\n",
    "print(\"Mayor que (>):\", a > b)\n",
    "print(\"Menor que (<):\", a < b)\n",
    "print(\"Mayor o igual (>=):\", a >= b)\n",
    "print(\"Menor o igual (<=):\", a <= b)\n"
   ]
  },
  {
   "cell_type": "markdown",
   "metadata": {},
   "source": [
    "- #### Operadores Lógicos\n",
    "Los operadores lógicos combinan expresiones y devuelven un valor booleano."
   ]
  },
  {
   "cell_type": "code",
   "execution_count": null,
   "metadata": {},
   "outputs": [],
   "source": [
    "x = True\n",
    "y = False\n",
    "\n",
    "print(\"AND lógico:\", x and y)  # True si ambos son True\n",
    "print(\"OR lógico:\", x or y)   # True si al menos uno es True\n",
    "print(\"NOT lógico:\", not x)    # Invierte el valor: True -> False, False -> True\n"
   ]
  }
 ],
 "metadata": {
  "kernelspec": {
   "display_name": "Python 3",
   "language": "python",
   "name": "python3"
  },
  "language_info": {
   "codemirror_mode": {
    "name": "ipython",
    "version": 3
   },
   "file_extension": ".py",
   "mimetype": "text/x-python",
   "name": "python",
   "nbconvert_exporter": "python",
   "pygments_lexer": "ipython3",
   "version": "3.10.11"
  }
 },
 "nbformat": 4,
 "nbformat_minor": 2
}
