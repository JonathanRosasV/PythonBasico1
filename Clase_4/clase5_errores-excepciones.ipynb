{
 "cells": [
  {
   "cell_type": "markdown",
   "id": "63acec3c",
   "metadata": {},
   "source": [
    "# Errores y Excepciones en Python\n",
    "\n",
    "Errores comunes en Python:\n",
    "\n",
    "- **Errores de sintaxis:** Problemas en la estructura del código.\n",
    "- **Excepciones:** Errores en tiempo de ejecución que interrumpen el programa.\n",
    "\n",
    "Ejemplo de excepción:\n",
    "\n",
    "---\n"
   ]
  },
  {
   "cell_type": "code",
   "execution_count": 1,
   "id": "e98285c8",
   "metadata": {},
   "outputs": [
    {
     "ename": "ZeroDivisionError",
     "evalue": "division by zero",
     "output_type": "error",
     "traceback": [
      "\u001b[1;31m---------------------------------------------------------------------------\u001b[0m",
      "\u001b[1;31mZeroDivisionError\u001b[0m                         Traceback (most recent call last)",
      "Cell \u001b[1;32mIn[1], line 1\u001b[0m\n\u001b[1;32m----> 1\u001b[0m \u001b[38;5;28mprint\u001b[39m(\u001b[38;5;241;43m1\u001b[39;49m\u001b[43m \u001b[49m\u001b[38;5;241;43m/\u001b[39;49m\u001b[43m \u001b[49m\u001b[38;5;241;43m0\u001b[39;49m)  \u001b[38;5;66;03m# Genera una excepción ZeroDivisionError\u001b[39;00m\n",
      "\u001b[1;31mZeroDivisionError\u001b[0m: division by zero"
     ]
    }
   ],
   "source": [
    "print(1 / 0)  # Genera una excepción ZeroDivisionError"
   ]
  },
  {
   "cell_type": "markdown",
   "id": "d99793d1",
   "metadata": {},
   "source": [
    "\n",
    "## Manejo de Excepciones\n",
    "\n",
    "Estructura básica de manejo de excepciones:\n",
    "\n",
    "```python\n",
    "try:\n",
    "    # Código que puede generar una excepción\n",
    "except ExceptionType:\n",
    "    # Código que maneja la excepción\n",
    "```\n",
    "\n",
    "---"
   ]
  },
  {
   "cell_type": "code",
   "execution_count": 4,
   "id": "83d0cd1a",
   "metadata": {},
   "outputs": [
    {
     "name": "stdout",
     "output_type": "stream",
     "text": [
      "Error: Por favor ingresa un número válido.\n"
     ]
    }
   ],
   "source": [
    "try:\n",
    "    num = int(input(\"Ingresa un número: \"))\n",
    "    print(f\"El número es: {num}\")\n",
    "except ValueError:\n",
    "    print(\"Error: Por favor ingresa un número válido.\")"
   ]
  },
  {
   "cell_type": "markdown",
   "id": "49c94c2d",
   "metadata": {},
   "source": [
    "\n",
    "## Bloques try, except, y finally\n",
    "\n",
    "Bloque `finally`:\n",
    "\n",
    "- Se ejecuta siempre, haya ocurrido una excepción o no.\n",
    "\n",
    "Estructura completa:\n",
    "\n",
    "```python\n",
    "try:\n",
    "    # Código principal\n",
    "except ExceptionType:\n",
    "    # Manejo del error\n",
    "finally:\n",
    "    # Código que siempre se ejecuta\n",
    "```\n",
    "----\n"
   ]
  },
  {
   "cell_type": "code",
   "execution_count": 5,
   "id": "368e77ae",
   "metadata": {},
   "outputs": [
    {
     "name": "stdout",
     "output_type": "stream",
     "text": [
      "Error: Archivo no encontrado.\n",
      "Bloque finally ejecutado.\n"
     ]
    }
   ],
   "source": [
    "try:\n",
    "    file = open(\"data.txt\", \"r\")\n",
    "    print(file.read())\n",
    "except FileNotFoundError:\n",
    "    print(\"Error: Archivo no encontrado.\")\n",
    "finally:\n",
    "    print(\"Bloque finally ejecutado.\")"
   ]
  },
  {
   "cell_type": "markdown",
   "id": "9e59dcdf",
   "metadata": {},
   "source": [
    "## Depuración Básica de Código\n",
    "\n",
    "Errores comunes al depurar:\n",
    "\n",
    "- Tipos de excepciones no manejados.\n",
    "- Variables no definidas o incorrectamente inicializadas.\n",
    "\n",
    "Herramientas de depuración:\n",
    "\n",
    "- Uso de `print()` para inspeccionar valores.\n",
    "- Uso de herramientas integradas como **pdb** o depuradores en IDEs (PyCharm, VS Code).\n",
    "\n",
    "Ejemplo práctico de depuración con `print`:\n",
    "\n",
    "---"
   ]
  },
  {
   "cell_type": "code",
   "execution_count": 6,
   "id": "93b5fc2f",
   "metadata": {},
   "outputs": [
    {
     "name": "stdout",
     "output_type": "stream",
     "text": [
      "Dividiendo 10 por 0\n"
     ]
    },
    {
     "ename": "ZeroDivisionError",
     "evalue": "division by zero",
     "output_type": "error",
     "traceback": [
      "\u001b[1;31m---------------------------------------------------------------------------\u001b[0m",
      "\u001b[1;31mZeroDivisionError\u001b[0m                         Traceback (most recent call last)",
      "Cell \u001b[1;32mIn[6], line 5\u001b[0m\n\u001b[0;32m      2\u001b[0m     \u001b[38;5;28mprint\u001b[39m(\u001b[38;5;124mf\u001b[39m\u001b[38;5;124m\"\u001b[39m\u001b[38;5;124mDividiendo \u001b[39m\u001b[38;5;132;01m{\u001b[39;00ma\u001b[38;5;132;01m}\u001b[39;00m\u001b[38;5;124m por \u001b[39m\u001b[38;5;132;01m{\u001b[39;00mb\u001b[38;5;132;01m}\u001b[39;00m\u001b[38;5;124m\"\u001b[39m)  \u001b[38;5;66;03m# Debugging\u001b[39;00m\n\u001b[0;32m      3\u001b[0m     \u001b[38;5;28;01mreturn\u001b[39;00m a \u001b[38;5;241m/\u001b[39m b\n\u001b[1;32m----> 5\u001b[0m \u001b[43mdivide\u001b[49m\u001b[43m(\u001b[49m\u001b[38;5;241;43m10\u001b[39;49m\u001b[43m,\u001b[49m\u001b[43m \u001b[49m\u001b[38;5;241;43m0\u001b[39;49m\u001b[43m)\u001b[49m  \u001b[38;5;66;03m# Provocará un ZeroDivisionError\u001b[39;00m\n",
      "Cell \u001b[1;32mIn[6], line 3\u001b[0m, in \u001b[0;36mdivide\u001b[1;34m(a, b)\u001b[0m\n\u001b[0;32m      1\u001b[0m \u001b[38;5;28;01mdef\u001b[39;00m \u001b[38;5;21mdivide\u001b[39m(a, b):\n\u001b[0;32m      2\u001b[0m     \u001b[38;5;28mprint\u001b[39m(\u001b[38;5;124mf\u001b[39m\u001b[38;5;124m\"\u001b[39m\u001b[38;5;124mDividiendo \u001b[39m\u001b[38;5;132;01m{\u001b[39;00ma\u001b[38;5;132;01m}\u001b[39;00m\u001b[38;5;124m por \u001b[39m\u001b[38;5;132;01m{\u001b[39;00mb\u001b[38;5;132;01m}\u001b[39;00m\u001b[38;5;124m\"\u001b[39m)  \u001b[38;5;66;03m# Debugging\u001b[39;00m\n\u001b[1;32m----> 3\u001b[0m     \u001b[38;5;28;01mreturn\u001b[39;00m \u001b[43ma\u001b[49m\u001b[43m \u001b[49m\u001b[38;5;241;43m/\u001b[39;49m\u001b[43m \u001b[49m\u001b[43mb\u001b[49m\n",
      "\u001b[1;31mZeroDivisionError\u001b[0m: division by zero"
     ]
    }
   ],
   "source": [
    "def divide(a, b):\n",
    "    print(f\"Dividiendo {a} por {b}\")  # Debugging\n",
    "    return a / b\n",
    "\n",
    "divide(10, 0)  # Provocará un ZeroDivisionError"
   ]
  },
  {
   "cell_type": "markdown",
   "id": "ea937637",
   "metadata": {},
   "source": [
    "\n",
    "## Ejemplo de Proyecto Real\n",
    "\n",
    "Crear un programa que solicite dos números y realice una división segura:\n",
    "\n",
    "\n",
    "---\n",
    "\n"
   ]
  },
  {
   "cell_type": "code",
   "execution_count": 7,
   "id": "ac85657d",
   "metadata": {},
   "outputs": [
    {
     "name": "stdout",
     "output_type": "stream",
     "text": [
      "Resultado: 10.0\n",
      "¡Gracias por usar el programa!\n"
     ]
    }
   ],
   "source": [
    "try:\n",
    "    a = int(input(\"Ingresa el primer número: \"))\n",
    "    b = int(input(\"Ingresa el segundo número: \"))\n",
    "    print(f\"Resultado: {a / b}\")\n",
    "except ZeroDivisionError:\n",
    "    print(\"Error: No se puede dividir entre cero.\")\n",
    "except ValueError:\n",
    "    print(\"Error: Ingresa valores numéricos.\")\n",
    "finally:\n",
    "    print(\"¡Gracias por usar el programa!\")"
   ]
  },
  {
   "cell_type": "markdown",
   "id": "0e532423",
   "metadata": {},
   "source": [
    "Resumen:\n",
    "\n",
    "- Uso de `try`, `except` y `finally` para manejar errores.\n",
    "- Importancia de la depuración en el desarrollo de código robusto.\n",
    "- Excepciones comunes en Python y cómo manejarlas.\n"
   ]
  }
 ],
 "metadata": {
  "kernelspec": {
   "display_name": "Python 3",
   "language": "python",
   "name": "python3"
  },
  "language_info": {
   "codemirror_mode": {
    "name": "ipython",
    "version": 3
   },
   "file_extension": ".py",
   "mimetype": "text/x-python",
   "name": "python",
   "nbconvert_exporter": "python",
   "pygments_lexer": "ipython3",
   "version": "3.10.11"
  }
 },
 "nbformat": 4,
 "nbformat_minor": 5
}
