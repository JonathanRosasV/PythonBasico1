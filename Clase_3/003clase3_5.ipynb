{
 "cells": [
  {
   "cell_type": "markdown",
   "id": "9563a1e0",
   "metadata": {
    "id": "9563a1e0"
   },
   "source": [
    "# 5. Manejo de Archivos en Python"
   ]
  },
  {
   "cell_type": "markdown",
   "id": "fd38ea09",
   "metadata": {
    "id": "fd38ea09"
   },
   "source": [
    "\n",
    "## Objetivo de la Sesión\n",
    "Introducir el manejo de archivos en Python, abordando:\n",
    "- Lectura y escritura de archivos de texto y CSV.\n",
    "- Técnicas recomendadas para manipular archivos de manera segura.\n"
   ]
  },
  {
   "cell_type": "markdown",
   "id": "a54df27e",
   "metadata": {
    "id": "a54df27e"
   },
   "source": [
    "\n",
    "## Lectura y Escritura de Archivos\n",
    "### Uso de `open()` y `with`\n",
    "- `open()` y sus modos: `r`, `w`, `a`, `r+`.\n",
    "- `with`: Buena práctica para gestionar automáticamente el cierre de archivos.\n"
   ]
  },
  {
   "cell_type": "code",
   "execution_count": 12,
   "id": "6cecb181",
   "metadata": {
    "colab": {
     "base_uri": "https://localhost:8080/"
    },
    "id": "6cecb181",
    "outputId": "f5efabb6-912e-409d-f04d-57e079dcd22c"
   },
   "outputs": [
    {
     "data": {
      "text/plain": [
       "'C:\\\\Users\\\\Jonathan\\\\Dropbox\\\\PC (2)\\\\Desktop\\\\clase3'"
      ]
     },
     "execution_count": 12,
     "metadata": {},
     "output_type": "execute_result"
    }
   ],
   "source": [
    "# Antes de empezar\n",
    "\n",
    "# Verificar el directorio de trabajo actual\n",
    "import os\n",
    "os.getcwd()\n",
    "\n",
    "# Cambiar de directorio\n",
    "# import os\n",
    "# os.chdir('C:\\\\Users\\\\Jonathan\\\\Dropbox\\\\PC (2)\\\\Desktop\\\\clase3')\n",
    "\n",
    "# Los que trabajan en Google Colab\n",
    "#from google.colab import files\n",
    "#uploaded = files.upload()  # Subir archivos manualmente\n",
    "\n",
    "# Usando Drive\n",
    "#from google.colab import drive\n",
    "#drive.mount('/content/drive')\n",
    "\n",
    "# Cambiar al directorio en Google Drive\n",
    "#import os\n",
    "#os.chdir('/content/drive/My Drive/clase3')  # Ajusta esta ruta según la ubicación real de tus archivos\n",
    "\n"
   ]
  },
  {
   "cell_type": "code",
   "execution_count": 13,
   "id": "ODfdKQl2Jz1m",
   "metadata": {
    "colab": {
     "base_uri": "https://localhost:8080/"
    },
    "id": "ODfdKQl2Jz1m",
    "outputId": "53dfde68-5d7f-42fd-f088-3fffffac7daf"
   },
   "outputs": [],
   "source": [
    "# Montar Google Drive nuevamente\n",
    "\n",
    "# from google.colab import drive\n",
    "# drive.mount('/content/drive', force_remount=True)\n",
    "\n"
   ]
  },
  {
   "cell_type": "code",
   "execution_count": 14,
   "id": "YeWk4Z93Jzz0",
   "metadata": {
    "colab": {
     "base_uri": "https://localhost:8080/"
    },
    "id": "YeWk4Z93Jzz0",
    "outputId": "e176c1aa-3ca7-445c-a340-c55b23631133"
   },
   "outputs": [
    {
     "ename": "FileNotFoundError",
     "evalue": "[WinError 3] The system cannot find the path specified: '/content/drive/My Drive'",
     "output_type": "error",
     "traceback": [
      "\u001b[1;31m---------------------------------------------------------------------------\u001b[0m",
      "\u001b[1;31mFileNotFoundError\u001b[0m                         Traceback (most recent call last)",
      "Cell \u001b[1;32mIn[14], line 4\u001b[0m\n\u001b[0;32m      1\u001b[0m \u001b[38;5;66;03m# Verificar la conexión al Drive\u001b[39;00m\n\u001b[0;32m      3\u001b[0m \u001b[38;5;28;01mimport\u001b[39;00m \u001b[38;5;21;01mos\u001b[39;00m\n\u001b[1;32m----> 4\u001b[0m \u001b[43mos\u001b[49m\u001b[38;5;241;43m.\u001b[39;49m\u001b[43mchdir\u001b[49m\u001b[43m(\u001b[49m\u001b[38;5;124;43m'\u001b[39;49m\u001b[38;5;124;43m/content/drive/My Drive\u001b[39;49m\u001b[38;5;124;43m'\u001b[39;49m\u001b[43m)\u001b[49m  \u001b[38;5;66;03m# Cambiar al directorio principal de tu Drive\u001b[39;00m\n\u001b[0;32m      5\u001b[0m \u001b[38;5;28mprint\u001b[39m(os\u001b[38;5;241m.\u001b[39mlistdir())  \u001b[38;5;66;03m# Listar los archivos y carpetas en el directorio actual\u001b[39;00m\n",
      "\u001b[1;31mFileNotFoundError\u001b[0m: [WinError 3] The system cannot find the path specified: '/content/drive/My Drive'"
     ]
    }
   ],
   "source": [
    "# Verificar la conexión al Drive\n",
    "\n",
    "import os\n",
    "os.chdir('/content/drive/My Drive')  # Cambiar al directorio principal de tu Drive\n",
    "print(os.listdir())  # Listar los archivos y carpetas en el directorio actual\n"
   ]
  },
  {
   "cell_type": "code",
   "execution_count": null,
   "id": "UaO990vxKZns",
   "metadata": {
    "colab": {
     "base_uri": "https://localhost:8080/"
    },
    "id": "UaO990vxKZns",
    "outputId": "c27ce624-cca4-45d2-fd6d-6e96c7bfe421"
   },
   "outputs": [
    {
     "name": "stdout",
     "output_type": "stream",
     "text": [
      "[]\n"
     ]
    }
   ],
   "source": [
    "# Navegar a una carpeta específica\n",
    "\n",
    "os.chdir('/content/drive/My Drive/clase3')  # Cambiar a la carpeta \"clase3\"\n",
    "print(os.listdir())  # Verifica el contenido de la carpeta\n"
   ]
  },
  {
   "cell_type": "markdown",
   "id": "f9bc2b85",
   "metadata": {},
   "source": [
    "## `with`: Una buena práctica para trabajar con archivos\n",
    "\n",
    "`with` es una **buena práctica** para trabajar con archivos porque asegura que el archivo se cierre automáticamente después de terminar su uso, incluso si ocurre un error durante la operación.\n",
    "\n",
    "### **¿Por qué usar `with`?**\n",
    "- **Cierre automático del archivo**: Se encarga automáticamente de cerrar el archivo, evitando fugas de recursos.\n",
    "- **Seguridad**: Es más seguro que usar `open()` y cerrar manualmente el archivo con `file.close()`.\n",
    "- **Código más limpio**: Hace que el código sea más legible y compacto, reduciendo la posibilidad de errores."
   ]
  },
  {
   "cell_type": "code",
   "execution_count": null,
   "id": "4df83743",
   "metadata": {},
   "outputs": [],
   "source": [
    "# Ejemplo de uso sin with\n",
    "\n",
    "file = open(\"archivo.txt\", \"r\")  # Abre el archivo\n",
    "contenido = file.read()         # Lee el contenido\n",
    "file.close()                    # Cierra el archivo manualmente"
   ]
  },
  {
   "cell_type": "code",
   "execution_count": null,
   "id": "aa6f8b0b",
   "metadata": {},
   "outputs": [],
   "source": [
    "# Ejemplo de uso con with\n",
    "\n",
    "with open(\"archivo.txt\", \"r\") as file:  # Entra al contexto\n",
    "    contenido = file.read()            # Opera con el archivo\n",
    "# Al salir del bloque, el archivo se cierra automáticamente\n"
   ]
  },
  {
   "cell_type": "markdown",
   "id": "1fbe12da",
   "metadata": {},
   "source": [
    "# `open()` y sus modos en Python\n",
    "\n",
    "La función `open()` se utiliza para abrir archivos en Python, y permite especificar diferentes modos dependiendo de la operación que quieras realizar.\n",
    "\n",
    "## Modos comunes de apertura de archivos\n",
    "\n",
    "### **1. `r` (read)**: Modo lectura\n",
    "- Abre el archivo solo para leer su contenido.\n",
    "- **Nota**: El archivo debe existir; si no, lanzará un error.\n",
    "- **Ejemplo**:\n",
    "\n",
    "\n",
    "---"
   ]
  },
  {
   "cell_type": "code",
   "execution_count": null,
   "id": "56bacfc9",
   "metadata": {},
   "outputs": [
    {
     "name": "stdout",
     "output_type": "stream",
     "text": [
      "Hola, mundo\n",
      "Aprender Python es divertido\n",
      "El archivo tiene varias lÃ­neas\n"
     ]
    }
   ],
   "source": [
    "file = open('archivo.txt', 'r')  \n",
    "contenido = file.read()          \n",
    "print(contenido)                 \n",
    "file.close()                     \n"
   ]
  },
  {
   "cell_type": "code",
   "execution_count": null,
   "id": "e5257809",
   "metadata": {},
   "outputs": [
    {
     "name": "stdout",
     "output_type": "stream",
     "text": [
      "Hola, mundo\n",
      "Aprender Python es divertido\n",
      "El archivo tiene varias lÃ­neas\n"
     ]
    }
   ],
   "source": [
    "with open('archivo.txt', 'r') as archivo:\n",
    "    contenido = archivo.read()\n",
    "    print(contenido)  # Muestra el contenido del archivo"
   ]
  },
  {
   "cell_type": "markdown",
   "id": "9d4633e3",
   "metadata": {},
   "source": [
    "### **2. `w` (write)**: Modo escritura\n",
    "- Abre el archivo para escribir datos.\n",
    "- **Nota**:\n",
    "  - Si el archivo no existe, lo crea.\n",
    "  - Si el archivo existe, borra su contenido previo.\n",
    "- **Ejemplo**:\n",
    "\n",
    "\n",
    "---"
   ]
  },
  {
   "cell_type": "code",
   "execution_count": null,
   "id": "6b739345",
   "metadata": {},
   "outputs": [],
   "source": [
    "with open('archivo.txt', 'w') as archivo:\n",
    "    archivo.write(\"Este es un texto nuevo\")"
   ]
  },
  {
   "cell_type": "markdown",
   "id": "ac53bba5",
   "metadata": {},
   "source": [
    "### **3. `a` (append)**: Modo anexar\n",
    "- Abre el archivo para agregar contenido al final.\n",
    "- **Nota**:\n",
    "  - Si el archivo no existe, lo crea.\n",
    "  - Si el archivo existe, agrega texto sin borrar el contenido previo.\n",
    "- **Ejemplo**:\n",
    "\n",
    "\n",
    "---"
   ]
  },
  {
   "cell_type": "code",
   "execution_count": null,
   "id": "73baee4f",
   "metadata": {},
   "outputs": [],
   "source": [
    "with open('archivo.txt', 'a') as archivo:\n",
    "    archivo.write(\"\\nTexto adicional al final del archivo\")"
   ]
  },
  {
   "cell_type": "markdown",
   "id": "ad71c4c2",
   "metadata": {},
   "source": [
    "### **4. `r+` (read/write)**: Modo lectura y escritura\n",
    "- Abre el archivo para leer y escribir datos.\n",
    "- **Nota**:\n",
    "  - Requiere que el archivo ya exista.\n",
    "- **Ejemplo**:\n",
    "\n",
    "\n",
    "---"
   ]
  },
  {
   "cell_type": "code",
   "execution_count": null,
   "id": "2712a109",
   "metadata": {},
   "outputs": [
    {
     "name": "stdout",
     "output_type": "stream",
     "text": [
      "Antes de escribir: Este es un texto nuevo\n",
      "Texto adicional al final del archivo\n"
     ]
    }
   ],
   "source": [
    "with open('archivo.txt', 'r+') as archivo:\n",
    "    contenido = archivo.read()\n",
    "    print(\"Antes de escribir:\", contenido)\n",
    "    archivo.write(\"Texto adicional\")"
   ]
  },
  {
   "cell_type": "markdown",
   "id": "d01t_fBhK5gE",
   "metadata": {
    "id": "d01t_fBhK5gE"
   },
   "source": [
    "## Resumen de Modos\n",
    "\n",
    "| Modo | Acción | Requiere que el archivo exista |\n",
    "|------|--------|-------------------------------|\n",
    "| `r`  | Lectura | Sí                           |\n",
    "| `w`  | Escritura (borrar contenido previo) | No |\n",
    "| `a`  | Escritura (anexar al final) | No |\n",
    "| `r+` | Lectura y Escritura | Sí |\n",
    "\n",
    "---\n",
    "\n",
    "### **Consejo: Usa `with` para manejar archivos**\n",
    "El uso de `with` asegura que el archivo se cierre automáticamente después de que termine el bloque de código, incluso si ocurre un error."
   ]
  },
  {
   "cell_type": "code",
   "execution_count": null,
   "id": "0a18061f",
   "metadata": {
    "colab": {
     "base_uri": "https://localhost:8080/",
     "height": 193
    },
    "id": "0a18061f",
    "outputId": "3aff873f-1c57-4b98-c43b-cdead5bb9d7c"
   },
   "outputs": [
    {
     "name": "stdout",
     "output_type": "stream",
     "text": [
      "Hola mundo\n"
     ]
    }
   ],
   "source": [
    "# Ejemplo de lectura de archivo usando 'with'\n",
    "with open(\"archivo.txt\", \"r\") as file:\n",
    "    contenido = file.read()\n",
    "    print(contenido)"
   ]
  },
  {
   "cell_type": "markdown",
   "id": "01767f1c",
   "metadata": {
    "id": "01767f1c"
   },
   "source": [
    "\n",
    "## Ejemplo Práctico\n",
    "Crear un archivo de texto con nombres de estudiantes y leer el archivo para mostrar los nombres.\n"
   ]
  },
  {
   "cell_type": "code",
   "execution_count": null,
   "id": "9769a6ac",
   "metadata": {
    "id": "9769a6ac"
   },
   "outputs": [],
   "source": [
    "\n",
    "# Crear y escribir en archivo\n",
    "with open(\"estudiantes.txt\", \"w\") as file:\n",
    "    file.write(\"Juan\\nMaria\\nPedro\")\n",
    "\n"
   ]
  },
  {
   "cell_type": "code",
   "execution_count": null,
   "id": "da2c4073",
   "metadata": {
    "id": "da2c4073",
    "outputId": "77f4fe31-a4b3-4dcd-f733-202843fab292"
   },
   "outputs": [
    {
     "name": "stdout",
     "output_type": "stream",
     "text": [
      "Juan\n",
      "Maria\n",
      "Pedro\n"
     ]
    }
   ],
   "source": [
    "# Leer el archivo\n",
    "with open(\"estudiantes.txt\", \"r\") as file:\n",
    "    print(file.read())"
   ]
  },
  {
   "cell_type": "markdown",
   "id": "aa5bfd66",
   "metadata": {
    "id": "aa5bfd66"
   },
   "source": [
    "\n",
    "## Manejo de Archivos CSV\n",
    "- Formato CSV: Estructura y utilidad.\n",
    "- Lectura y escritura usando el módulo `csv`.\n"
   ]
  },
  {
   "cell_type": "markdown",
   "id": "813d7f2b",
   "metadata": {},
   "source": [
    "### [Awesome Public Datasets](https://github.com/awesomedata/awesome-public-datasets)\n",
    "- Lista colaborativa de conjuntos de datos públicos.\n",
    "- Incluye enlaces a datasets en **.csv**.\n"
   ]
  },
  {
   "cell_type": "markdown",
   "id": "db9d64fd",
   "metadata": {},
   "source": [
    "# Crear Bases de Datos fictícias"
   ]
  },
  {
   "cell_type": "code",
   "execution_count": null,
   "id": "54079668",
   "metadata": {},
   "outputs": [],
   "source": [
    "from faker import Faker\n",
    "import pandas as pd\n",
    "\n",
    "faker = Faker()\n",
    "data = [{'Name': faker.name(), 'Email': faker.email(), 'Country': faker.country()} for _ in range(100)]\n",
    "df = pd.DataFrame(data)\n",
    "df.to_csv('data.csv', index=False)"
   ]
  },
  {
   "cell_type": "code",
   "execution_count": null,
   "id": "00cf4d07",
   "metadata": {
    "id": "00cf4d07",
    "outputId": "2d771d48-8025-415c-917d-17410d08abc8"
   },
   "outputs": [
    {
     "name": "stdout",
     "output_type": "stream",
     "text": [
      "['Nombre', 'Edad']\n",
      "['Juan', '25']\n",
      "['Juan', '25']\n",
      "['Juan', '25']\n",
      "['Nombre', 'Edad']\n",
      "['Juan', '25']\n"
     ]
    }
   ],
   "source": [
    "\n",
    "import csv\n",
    "\n",
    "# Leer CSV\n",
    "with open(\"data.csv\", \"r\") as file:\n",
    "    reader = csv.reader(file)\n",
    "    for row in reader:\n",
    "        print(row)\n",
    "\n",
    "\n"
   ]
  },
  {
   "cell_type": "code",
   "execution_count": null,
   "id": "5cf7e428",
   "metadata": {
    "id": "5cf7e428"
   },
   "outputs": [],
   "source": [
    "import csv\n",
    "import os\n",
    "\n",
    "# Verificar si el archivo existe\n",
    "os.path.isfile(\"data.csv\")\n",
    "\n",
    "# Escribir en CSV\n",
    "#with open(\"data.csv\", \"w\", newline='') as file:\n",
    "#    writer = csv.writer(file)\n",
    "#    writer.writerow([\"Nombre\", \"Edad\"])\n",
    "#    writer.writerow([\"Juan\", 25])\n",
    "\n",
    "# Escribir en CSV sin sobrescribir\n",
    "with open(\"data.csv\", \"a\", newline='') as file:\n",
    "    writer = csv.writer(file)\n",
    "    writer.writerow([\"Juan\", 25])  # Agregar una nueva fila"
   ]
  },
  {
   "cell_type": "markdown",
   "id": "036478eb",
   "metadata": {
    "id": "036478eb"
   },
   "source": [
    "\n",
    "## Ejercicio de Integración\n",
    "Crear un programa que almacene y actualice un archivo CSV con datos de inventario.\n",
    "\n",
    "- Objetivo: Practicar la creación, lectura y actualización de archivos CSV.\n"
   ]
  },
  {
   "cell_type": "code",
   "execution_count": null,
   "id": "167f7051",
   "metadata": {
    "id": "167f7051"
   },
   "outputs": [],
   "source": [
    "\n",
    "import csv\n",
    "\n",
    "# Agregar datos al CSV\n",
    "with open(\"inventario.csv\", \"a\", newline='') as file:\n",
    "    writer = csv.writer(file)\n",
    "    writer.writerow([\"Producto\", \"Cantidad\", \"Precio\"])\n",
    "    writer.writerow([\"Lápiz\", 100, 0.5])\n"
   ]
  },
  {
   "cell_type": "code",
   "execution_count": null,
   "id": "59bc639e",
   "metadata": {},
   "outputs": [
    {
     "name": "stdout",
     "output_type": "stream",
     "text": [
      "Help on function open in module io:\n",
      "\n",
      "open(file, mode='r', buffering=-1, encoding=None, errors=None, newline=None, closefd=True, opener=None)\n",
      "    Open file and return a stream.  Raise OSError upon failure.\n",
      "    \n",
      "    file is either a text or byte string giving the name (and the path\n",
      "    if the file isn't in the current working directory) of the file to\n",
      "    be opened or an integer file descriptor of the file to be\n",
      "    wrapped. (If a file descriptor is given, it is closed when the\n",
      "    returned I/O object is closed, unless closefd is set to False.)\n",
      "    \n",
      "    mode is an optional string that specifies the mode in which the file\n",
      "    is opened. It defaults to 'r' which means open for reading in text\n",
      "    mode.  Other common values are 'w' for writing (truncating the file if\n",
      "    it already exists), 'x' for creating and writing to a new file, and\n",
      "    'a' for appending (which on some Unix systems, means that all writes\n",
      "    append to the end of the file regardless of the current seek position).\n",
      "    In text mode, if encoding is not specified the encoding used is platform\n",
      "    dependent: locale.getpreferredencoding(False) is called to get the\n",
      "    current locale encoding. (For reading and writing raw bytes use binary\n",
      "    mode and leave encoding unspecified.) The available modes are:\n",
      "    \n",
      "    ========= ===============================================================\n",
      "    Character Meaning\n",
      "    --------- ---------------------------------------------------------------\n",
      "    'r'       open for reading (default)\n",
      "    'w'       open for writing, truncating the file first\n",
      "    'x'       create a new file and open it for writing\n",
      "    'a'       open for writing, appending to the end of the file if it exists\n",
      "    'b'       binary mode\n",
      "    't'       text mode (default)\n",
      "    '+'       open a disk file for updating (reading and writing)\n",
      "    'U'       universal newline mode (deprecated)\n",
      "    ========= ===============================================================\n",
      "    \n",
      "    The default mode is 'rt' (open for reading text). For binary random\n",
      "    access, the mode 'w+b' opens and truncates the file to 0 bytes, while\n",
      "    'r+b' opens the file without truncation. The 'x' mode implies 'w' and\n",
      "    raises an `FileExistsError` if the file already exists.\n",
      "    \n",
      "    Python distinguishes between files opened in binary and text modes,\n",
      "    even when the underlying operating system doesn't. Files opened in\n",
      "    binary mode (appending 'b' to the mode argument) return contents as\n",
      "    bytes objects without any decoding. In text mode (the default, or when\n",
      "    't' is appended to the mode argument), the contents of the file are\n",
      "    returned as strings, the bytes having been first decoded using a\n",
      "    platform-dependent encoding or using the specified encoding if given.\n",
      "    \n",
      "    'U' mode is deprecated and will raise an exception in future versions\n",
      "    of Python.  It has no effect in Python 3.  Use newline to control\n",
      "    universal newlines mode.\n",
      "    \n",
      "    buffering is an optional integer used to set the buffering policy.\n",
      "    Pass 0 to switch buffering off (only allowed in binary mode), 1 to select\n",
      "    line buffering (only usable in text mode), and an integer > 1 to indicate\n",
      "    the size of a fixed-size chunk buffer.  When no buffering argument is\n",
      "    given, the default buffering policy works as follows:\n",
      "    \n",
      "    * Binary files are buffered in fixed-size chunks; the size of the buffer\n",
      "      is chosen using a heuristic trying to determine the underlying device's\n",
      "      \"block size\" and falling back on `io.DEFAULT_BUFFER_SIZE`.\n",
      "      On many systems, the buffer will typically be 4096 or 8192 bytes long.\n",
      "    \n",
      "    * \"Interactive\" text files (files for which isatty() returns True)\n",
      "      use line buffering.  Other text files use the policy described above\n",
      "      for binary files.\n",
      "    \n",
      "    encoding is the name of the encoding used to decode or encode the\n",
      "    file. This should only be used in text mode. The default encoding is\n",
      "    platform dependent, but any encoding supported by Python can be\n",
      "    passed.  See the codecs module for the list of supported encodings.\n",
      "    \n",
      "    errors is an optional string that specifies how encoding errors are to\n",
      "    be handled---this argument should not be used in binary mode. Pass\n",
      "    'strict' to raise a ValueError exception if there is an encoding error\n",
      "    (the default of None has the same effect), or pass 'ignore' to ignore\n",
      "    errors. (Note that ignoring encoding errors can lead to data loss.)\n",
      "    See the documentation for codecs.register or run 'help(codecs.Codec)'\n",
      "    for a list of the permitted encoding error strings.\n",
      "    \n",
      "    newline controls how universal newlines works (it only applies to text\n",
      "    mode). It can be None, '', '\\n', '\\r', and '\\r\\n'.  It works as\n",
      "    follows:\n",
      "    \n",
      "    * On input, if newline is None, universal newlines mode is\n",
      "      enabled. Lines in the input can end in '\\n', '\\r', or '\\r\\n', and\n",
      "      these are translated into '\\n' before being returned to the\n",
      "      caller. If it is '', universal newline mode is enabled, but line\n",
      "      endings are returned to the caller untranslated. If it has any of\n",
      "      the other legal values, input lines are only terminated by the given\n",
      "      string, and the line ending is returned to the caller untranslated.\n",
      "    \n",
      "    * On output, if newline is None, any '\\n' characters written are\n",
      "      translated to the system default line separator, os.linesep. If\n",
      "      newline is '' or '\\n', no translation takes place. If newline is any\n",
      "      of the other legal values, any '\\n' characters written are translated\n",
      "      to the given string.\n",
      "    \n",
      "    If closefd is False, the underlying file descriptor will be kept open\n",
      "    when the file is closed. This does not work when a file name is given\n",
      "    and must be True in that case.\n",
      "    \n",
      "    A custom opener can be used by passing a callable as *opener*. The\n",
      "    underlying file descriptor for the file object is then obtained by\n",
      "    calling *opener* with (*file*, *flags*). *opener* must return an open\n",
      "    file descriptor (passing os.open as *opener* results in functionality\n",
      "    similar to passing None).\n",
      "    \n",
      "    open() returns a file object whose type depends on the mode, and\n",
      "    through which the standard file operations such as reading and writing\n",
      "    are performed. When open() is used to open a file in a text mode ('w',\n",
      "    'r', 'wt', 'rt', etc.), it returns a TextIOWrapper. When used to open\n",
      "    a file in a binary mode, the returned class varies: in read binary\n",
      "    mode, it returns a BufferedReader; in write binary and append binary\n",
      "    modes, it returns a BufferedWriter, and in read/write mode, it returns\n",
      "    a BufferedRandom.\n",
      "    \n",
      "    It is also possible to use a string or bytearray as a file for both\n",
      "    reading and writing. For strings StringIO can be used like a file\n",
      "    opened in a text mode, and for bytes a BytesIO can be used like a file\n",
      "    opened in a binary mode.\n",
      "\n"
     ]
    }
   ],
   "source": [
    "help(open)"
   ]
  },
  {
   "cell_type": "markdown",
   "id": "452d7b92",
   "metadata": {},
   "source": [
    "# 6. Módulos y Librerías Básicas en Python\n",
    "\n"
   ]
  },
  {
   "cell_type": "markdown",
   "id": "c6ee74f0",
   "metadata": {},
   "source": [
    "## El comando `!pip list`\n",
    "\n",
    "El comando `!pip list` se utiliza en notebooks interactivos (como Jupyter Notebook o Google Colab) para listar todos los paquetes instalados en el entorno Python activo. \n",
    "\n",
    "La `!` al principio del comando indica que estás ejecutando un comando de terminal directamente desde el notebook."
   ]
  },
  {
   "cell_type": "code",
   "execution_count": null,
   "id": "4f53fd7c",
   "metadata": {},
   "outputs": [
    {
     "name": "stdout",
     "output_type": "stream",
     "text": [
      "Package           Version\n",
      "----------------- -------\n",
      "asttokens         2.4.1\n",
      "colorama          0.4.6\n",
      "comm              0.1.4\n",
      "contourpy         1.3.1\n",
      "cycler            0.12.1\n",
      "debugpy           1.8.0\n",
      "decorator         5.1.1\n",
      "exceptiongroup    1.1.3\n",
      "executing         2.0.1\n",
      "Faker             33.0.0\n",
      "fonttools         4.55.0\n",
      "ipykernel         6.26.0\n",
      "ipython           8.17.2\n",
      "jedi              0.19.1\n",
      "jupyter_client    8.5.0\n",
      "jupyter_core      5.5.0\n",
      "kiwisolver        1.4.7\n",
      "matplotlib        3.9.2\n",
      "matplotlib-inline 0.1.6\n",
      "nest-asyncio      1.5.8\n",
      "numpy             2.1.3\n",
      "packaging         23.2\n",
      "pandas            2.2.3\n",
      "parso             0.8.3\n",
      "pillow            11.0.0\n",
      "pip               24.3.1\n",
      "platformdirs      3.11.0\n",
      "prompt-toolkit    3.0.39\n",
      "psutil            5.9.6\n",
      "pure-eval         0.2.2\n",
      "Pygments          2.16.1\n",
      "pyparsing         3.2.0\n",
      "python-dateutil   2.8.2\n",
      "pytz              2024.2\n",
      "pywin32           306\n",
      "pyzmq             25.1.1\n",
      "six               1.16.0\n",
      "stack-data        0.6.3\n",
      "tornado           6.3.3\n",
      "traitlets         5.13.0\n",
      "typing_extensions 4.12.2\n",
      "tzdata            2024.2\n",
      "wcwidth           0.2.9\n"
     ]
    }
   ],
   "source": [
    "!pip list"
   ]
  },
  {
   "cell_type": "markdown",
   "id": "dcdb06c8",
   "metadata": {},
   "source": [
    "# ¿Qué es un módulo y qué es una librería en Python?\n",
    "\n",
    "\n",
    "---\n",
    "\n",
    "## **Módulo**\n",
    "Un **módulo** es un archivo de Python con extensión `.py` que contiene definiciones y declaraciones, como funciones, clases o variables. Los módulos están diseñados para organizar y reutilizar código.\n",
    "\n",
    "- **Cómo se usa**: Los módulos se importan en otros programas o scripts con la palabra clave `import`.\n",
    "- **Ejemplo de módulo**:\n",
    "```python\n",
    "# archivo: operaciones.py\n",
    "def sumar(a, b):\n",
    "    return a + b\n",
    "\n",
    "def restar(a, b):\n",
    "    return a - b\n",
    "```\n",
    "\n",
    "Puedes importar y usar este módulo en otro archivo:\n",
    "```python\n",
    "import operaciones\n",
    "\n",
    "print(operaciones.sumar(3, 4))  # Salida: 7\n",
    "```\n",
    "\n",
    "- **Módulos estándar de Python**:\n",
    "Python incluye muchos módulos integrados, como:\n",
    "- `math`: Funciones matemáticas.\n",
    "- `os`: Interacción con el sistema operativo.\n",
    "- `random`: Generación de números aleatorios.\n",
    "- `datetime`: Manejo de fechas y horas."
   ]
  },
  {
   "cell_type": "markdown",
   "id": "ccda7bfc",
   "metadata": {},
   "source": [
    "## **Librería**\n",
    "Una **librería** es una colección de módulos que cumplen un propósito más amplio o específico. Puede incluir múltiples módulos empaquetados juntos para facilitar el desarrollo de software.\n",
    "\n",
    "- **Ejemplo de librería estándar**:\n",
    "La librería estándar de Python incluye muchas colecciones de módulos que vienen con Python. Por ejemplo:\n",
    "- **Librería `math`**: Un solo módulo que incluye funciones matemáticas.\n",
    "- **Librería `os`**: Un módulo para interactuar con el sistema operativo.\n",
    "- **Librería `collections`**: Incluye varios módulos para estructuras de datos avanzadas.\n",
    "\n",
    "- **Librerías de terceros**:\n",
    "Las librerías de terceros no están incluidas en Python por defecto, pero puedes instalarlas con `pip`. Ejemplos:\n",
    "- `numpy`: Procesamiento numérico.\n",
    "- `pandas`: Análisis de datos.\n",
    "- `requests`: Manejo de solicitudes HTTP.\n",
    "\n",
    "### **Sugerencia**:\n",
    "Para verificar las librerías que tienes instaladas en tu entorno Python, puedes usar el comando:\n",
    "```bash\n",
    "pip list\n",
    "```\n",
    "Este comando muestra todas las librerías instaladas junto con sus versiones, lo que te ayuda a gestionar tus dependencias."
   ]
  },
  {
   "cell_type": "markdown",
   "id": "7791c5b0",
   "metadata": {},
   "source": [
    "## **Diferencias clave entre módulo y librería**\n",
    "\n",
    "| **Aspecto**           | **Módulo**                        | **Librería**                            |\n",
    "|-----------------------|------------------------------------|-----------------------------------------|\n",
    "| **Definición**        | Un solo archivo `.py`.            | Colección de módulos (puede incluir otros archivos y recursos). |\n",
    "| **Tamaño**            | Es pequeño y enfocado.            | Más grande y orientado a propósitos amplios. |\n",
    "| **Ejemplo**           | `math`, `random`.                 | `numpy`, `pandas`.                     |\n",
    "| **Instalación**       | Normalmente viene con Python.     | Puede requerir instalación adicional con `pip`. |\n"
   ]
  },
  {
   "cell_type": "markdown",
   "id": "ac8806f5",
   "metadata": {},
   "source": [
    "## Uso de Módulos Estándar\n",
    "Python incluye varios módulos estándar para realizar tareas comunes:\n",
    "- **`math`**: Funciones matemáticas avanzadas.\n",
    "- **`datetime`**: Manipulación de fechas y horas.\n",
    "- **`random`**: Generación de números aleatorios.\n",
    "\n",
    "---"
   ]
  },
  {
   "cell_type": "markdown",
   "id": "86286411",
   "metadata": {},
   "source": [
    "\n",
    "\n",
    "## Módulo `math`\n",
    "Funciones matemáticas comunes como `sqrt`, `sin`, `cos`, `log`, etc.\n",
    "\n",
    "\n",
    "---"
   ]
  },
  {
   "cell_type": "code",
   "execution_count": null,
   "id": "ccd9f2d4",
   "metadata": {},
   "outputs": [
    {
     "name": "stdout",
     "output_type": "stream",
     "text": [
      "4.0\n",
      "2.303\n",
      "0.7071067811865476\n"
     ]
    }
   ],
   "source": [
    "import math\n",
    "\n",
    "# Raíz cuadrada\n",
    "print(math.sqrt(16))\n",
    "\n",
    "# Logaritmo natural\n",
    "print(round(math.log(10),3))\n",
    "                            \n",
    "# Coseno de un ángulo\n",
    "print(math.cos(math.pi / 4))"
   ]
  },
  {
   "cell_type": "markdown",
   "id": "1c7ff7c8",
   "metadata": {},
   "source": [
    "## Módulo `datetime`\n",
    "Manipulación de fechas y horas. Creación de objetos `date`, `time` y `datetime`.\n",
    "\n",
    "\n",
    "---"
   ]
  },
  {
   "cell_type": "code",
   "execution_count": null,
   "id": "47202211",
   "metadata": {},
   "outputs": [
    {
     "name": "stdout",
     "output_type": "stream",
     "text": [
      "2024-11-16 05:29:37.163350\n",
      "2024-11-16 05:29:37\n"
     ]
    }
   ],
   "source": [
    "from datetime import datetime\n",
    "\n",
    "# Fecha y hora actual\n",
    "now = datetime.now()\n",
    "print(now)\n",
    "\n",
    "# Formatear la fecha\n",
    "print(now.strftime(\"%Y-%m-%d %H:%M:%S\"))"
   ]
  },
  {
   "cell_type": "markdown",
   "id": "af1188bf",
   "metadata": {},
   "source": [
    "\n",
    "\n",
    "\n",
    "\n",
    "\n",
    "## Módulo `random`\n",
    "Generación de números aleatorios con funciones como `randint`, `choice` y `shuffle`.\n",
    "\n",
    "```python\n",
    "import random\n",
    "\n",
    "# Número aleatorio entre 1 y 10\n",
    "print(random.randint(1, 10))\n",
    "\n",
    "# Elegir un elemento aleatorio de una lista\n",
    "colores = [\"rojo\", \"azul\", \"verde\"]\n",
    "print(random.choice(colores))\n",
    "\n",
    "# Barajar una lista\n",
    "random.shuffle(colores)\n",
    "print(colores)\n",
    "```\n",
    "\n",
    "---"
   ]
  },
  {
   "cell_type": "code",
   "execution_count": null,
   "id": "0aa8d493",
   "metadata": {},
   "outputs": [
    {
     "name": "stdout",
     "output_type": "stream",
     "text": [
      "5\n",
      "rojo\n",
      "['verde', 'azul', 'rojo']\n"
     ]
    }
   ],
   "source": [
    "import random\n",
    "\n",
    "# Número aleatorio entre 1 y 10\n",
    "print(random.randint(1, 10))\n",
    "\n",
    "# Elegir un elemento aleatorio de una lista\n",
    "colores = [\"rojo\", \"azul\", \"verde\"]\n",
    "print(random.choice(colores))\n",
    "\n",
    "# Barajar una lista\n",
    "random.shuffle(colores)\n",
    "print(colores)"
   ]
  },
  {
   "cell_type": "markdown",
   "id": "zfqMHA2MLjaH",
   "metadata": {
    "id": "zfqMHA2MLjaH"
   },
   "source": [
    "\n",
    "\n",
    "## Instalación de Paquetes con `pip`\n",
    "- **`pip`** es el administrador de paquetes de Python.\n",
    "- Permite instalar librerías adicionales para extender las funcionalidades de Python.\n",
    "\n",
    "\n",
    "\n",
    "---\n",
    "\n",
    "## Enlaces de interés\n",
    "- [Github de Jonathan Rosas](https://github.com/JonathanRosasV)\n",
    "- [Curso de Python de la U. de Chile: Coursera](https://www.coursera.org/learn/aprendiendo-programar-python)\n",
    "- [Para programar: DataCamp](https://www.datacamp.com/)"
   ]
  },
  {
   "cell_type": "code",
   "execution_count": null,
   "id": "8b9af38f",
   "metadata": {},
   "outputs": [
    {
     "ename": "SyntaxError",
     "evalue": "invalid syntax (1071685665.py, line 1)",
     "output_type": "error",
     "traceback": [
      "\u001b[1;36m  Cell \u001b[1;32mIn[1], line 1\u001b[1;36m\u001b[0m\n\u001b[1;33m    pip freeze\u001b[0m\n\u001b[1;37m        ^\u001b[0m\n\u001b[1;31mSyntaxError\u001b[0m\u001b[1;31m:\u001b[0m invalid syntax\n"
     ]
    }
   ],
   "source": [
    "pip freeze\n",
    "pip list"
   ]
  }
 ],
 "metadata": {
  "colab": {
   "provenance": []
  },
  "kernelspec": {
   "display_name": "Python 3",
   "language": "python",
   "name": "python3"
  },
  "language_info": {
   "codemirror_mode": {
    "name": "ipython",
    "version": 3
   },
   "file_extension": ".py",
   "mimetype": "text/x-python",
   "name": "python",
   "nbconvert_exporter": "python",
   "pygments_lexer": "ipython3",
   "version": "3.10.11"
  }
 },
 "nbformat": 4,
 "nbformat_minor": 5
}
