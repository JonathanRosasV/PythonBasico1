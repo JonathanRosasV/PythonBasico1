{
 "cells": [
  {
   "cell_type": "markdown",
   "id": "9563a1e0",
   "metadata": {},
   "source": [
    "# 5. Manejo de Archivos en Python"
   ]
  },
  {
   "cell_type": "markdown",
   "id": "fd38ea09",
   "metadata": {},
   "source": [
    "\n",
    "## Objetivo de la Sesión\n",
    "Introducir el manejo de archivos en Python, abordando:\n",
    "- Lectura y escritura de archivos de texto y CSV.\n",
    "- Técnicas recomendadas para manipular archivos de manera segura.\n"
   ]
  },
  {
   "cell_type": "markdown",
   "id": "1d6c3643",
   "metadata": {},
   "source": [
    "\n",
    "## Introducción al Manejo de Archivos\n",
    "- Tipos de archivos: texto vs binario.\n",
    "- Importancia en el procesamiento y almacenamiento de datos.\n",
    "- Ejemplos de uso común (e.g., análisis de datos, almacenamiento de configuraciones).\n"
   ]
  },
  {
   "cell_type": "markdown",
   "id": "a54df27e",
   "metadata": {},
   "source": [
    "\n",
    "## Lectura y Escritura de Archivos\n",
    "### Uso de `open()` y `with`\n",
    "- `open()` y sus modos: `r`, `w`, `a`, `r+`.\n",
    "- `with`: Buena práctica para gestionar automáticamente el cierre de archivos.\n"
   ]
  },
  {
   "cell_type": "code",
   "execution_count": 25,
   "id": "6cecb181",
   "metadata": {},
   "outputs": [
    {
     "data": {
      "text/plain": [
       "'C:\\\\Users\\\\Jonathan\\\\Dropbox\\\\PC (2)\\\\Desktop\\\\clase3'"
      ]
     },
     "execution_count": 25,
     "metadata": {},
     "output_type": "execute_result"
    }
   ],
   "source": [
    "# Antes de empezar\n",
    "\n",
    "# Verificar el directorio de trabajo actual\n",
    "import os\n",
    "os.getcwd()\n",
    "\n",
    "# Cambiar de directorio\n",
    "#import os\n",
    "#os.chdir('C:\\\\Users\\\\Jonathan\\\\Dropbox\\\\PC (2)\\\\Desktop\\\\clase3')\n",
    "\n"
   ]
  },
  {
   "cell_type": "code",
   "execution_count": 29,
   "id": "0a18061f",
   "metadata": {},
   "outputs": [
    {
     "name": "stdout",
     "output_type": "stream",
     "text": [
      "Hola mundo\n",
      "Bienvenidos\n"
     ]
    }
   ],
   "source": [
    "\n",
    "# Ejemplo de lectura de archivo usando 'with'\n",
    "with open(\"archivo.txt\", \"r\") as file:\n",
    "    contenido = file.read()\n",
    "    print(contenido)"
   ]
  },
  {
   "cell_type": "markdown",
   "id": "0fd3547c",
   "metadata": {},
   "source": [
    "\n",
    "## Manejo de Archivos de Texto\n",
    "- Lectura completa o línea por línea.\n",
    "- Escritura: Sobrescribir y añadir contenido.\n"
   ]
  },
  {
   "cell_type": "code",
   "execution_count": 30,
   "id": "182f829a",
   "metadata": {},
   "outputs": [
    {
     "name": "stdout",
     "output_type": "stream",
     "text": [
      "Hola mundo\n",
      "Bienvenidos\n"
     ]
    }
   ],
   "source": [
    "\n",
    "# Leer línea por línea\n",
    "with open(\"archivo.txt\", \"r\") as file:\n",
    "    for line in file:\n",
    "        print(line.strip())\n",
    "\n",
    "\n"
   ]
  },
  {
   "cell_type": "code",
   "execution_count": 31,
   "id": "20366a8d",
   "metadata": {},
   "outputs": [],
   "source": [
    "# Escribir en el archivo\n",
    "with open(\"archivo.txt\", \"w\") as file:\n",
    "    file.write(\"Nuevo contenido\")"
   ]
  },
  {
   "cell_type": "markdown",
   "id": "01767f1c",
   "metadata": {},
   "source": [
    "\n",
    "## Ejemplo Práctico\n",
    "Crear un archivo de texto con nombres de estudiantes y leer el archivo para mostrar los nombres.\n"
   ]
  },
  {
   "cell_type": "code",
   "execution_count": 34,
   "id": "9769a6ac",
   "metadata": {},
   "outputs": [],
   "source": [
    "\n",
    "# Crear y escribir en archivo\n",
    "with open(\"estudiantes.txt\", \"w\") as file:\n",
    "    file.write(\"Juan\\nMaria\\nPedro\")\n",
    "\n"
   ]
  },
  {
   "cell_type": "code",
   "execution_count": 33,
   "id": "da2c4073",
   "metadata": {},
   "outputs": [
    {
     "name": "stdout",
     "output_type": "stream",
     "text": [
      "Juan\n",
      "Maria\n",
      "Pedro\n"
     ]
    }
   ],
   "source": [
    "# Leer el archivo\n",
    "with open(\"estudiantes.txt\", \"r\") as file:\n",
    "    print(file.read())"
   ]
  },
  {
   "cell_type": "markdown",
   "id": "aa5bfd66",
   "metadata": {},
   "source": [
    "\n",
    "## Manejo de Archivos CSV\n",
    "- Formato CSV: Estructura y utilidad.\n",
    "- Lectura y escritura usando el módulo `csv`.\n"
   ]
  },
  {
   "cell_type": "code",
   "execution_count": 39,
   "id": "00cf4d07",
   "metadata": {},
   "outputs": [
    {
     "name": "stdout",
     "output_type": "stream",
     "text": [
      "['ID;Campus']\n",
      "['1200084;Trujillo']\n"
     ]
    }
   ],
   "source": [
    "\n",
    "import csv\n",
    "\n",
    "# Leer CSV\n",
    "with open(\"data.csv\", \"r\") as file:\n",
    "    reader = csv.reader(file)\n",
    "    for row in reader:\n",
    "        print(row)\n",
    "\n",
    "\n"
   ]
  },
  {
   "cell_type": "code",
   "execution_count": 37,
   "id": "5cf7e428",
   "metadata": {},
   "outputs": [],
   "source": [
    "# Escribir en CSV\n",
    "with open(\"data.csv\", \"w\", newline='') as file:\n",
    "    writer = csv.writer(file)\n",
    "    writer.writerow([\"Nombre\", \"Edad\"])\n",
    "    writer.writerow([\"Juan\", 25])"
   ]
  },
  {
   "cell_type": "markdown",
   "id": "036478eb",
   "metadata": {},
   "source": [
    "\n",
    "## Ejercicio de Integración\n",
    "Crear un programa que almacene y actualice un archivo CSV con datos de inventario.\n",
    "\n",
    "- Objetivo: Practicar la creación, lectura y actualización de archivos CSV.\n"
   ]
  },
  {
   "cell_type": "code",
   "execution_count": 40,
   "id": "167f7051",
   "metadata": {},
   "outputs": [],
   "source": [
    "\n",
    "import csv\n",
    "\n",
    "# Agregar datos al CSV\n",
    "with open(\"inventario.csv\", \"a\", newline='') as file:\n",
    "    writer = csv.writer(file)\n",
    "    writer.writerow([\"Producto\", \"Cantidad\", \"Precio\"])\n",
    "    writer.writerow([\"Lápiz\", 100, 0.5])\n"
   ]
  }
 ],
 "metadata": {
  "kernelspec": {
   "display_name": "Python 3",
   "language": "python",
   "name": "python3"
  },
  "language_info": {
   "codemirror_mode": {
    "name": "ipython",
    "version": 3
   },
   "file_extension": ".py",
   "mimetype": "text/x-python",
   "name": "python",
   "nbconvert_exporter": "python",
   "pygments_lexer": "ipython3",
   "version": "3.10.11"
  }
 },
 "nbformat": 4,
 "nbformat_minor": 5
}
