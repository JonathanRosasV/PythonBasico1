{
  "cells": [
    {
      "cell_type": "markdown",
      "id": "9563a1e0",
      "metadata": {
        "id": "9563a1e0"
      },
      "source": [
        "# 5. Manejo de Archivos en Python"
      ]
    },
    {
      "cell_type": "markdown",
      "id": "fd38ea09",
      "metadata": {
        "id": "fd38ea09"
      },
      "source": [
        "\n",
        "## Objetivo de la Sesión\n",
        "Introducir el manejo de archivos en Python, abordando:\n",
        "- Lectura y escritura de archivos de texto y CSV.\n",
        "- Técnicas recomendadas para manipular archivos de manera segura.\n"
      ]
    },
    {
      "cell_type": "markdown",
      "id": "1d6c3643",
      "metadata": {
        "id": "1d6c3643"
      },
      "source": [
        "\n",
        "## Introducción al Manejo de Archivos\n",
        "- Tipos de archivos: texto vs binario.\n",
        "- Importancia en el procesamiento y almacenamiento de datos.\n",
        "- Ejemplos de uso común (e.g., análisis de datos, almacenamiento de configuraciones).\n"
      ]
    },
    {
      "cell_type": "markdown",
      "id": "a54df27e",
      "metadata": {
        "id": "a54df27e"
      },
      "source": [
        "\n",
        "## Lectura y Escritura de Archivos\n",
        "### Uso de `open()` y `with`\n",
        "- `open()` y sus modos: `r`, `w`, `a`, `r+`.\n",
        "- `with`: Buena práctica para gestionar automáticamente el cierre de archivos.\n"
      ]
    },
    {
      "cell_type": "code",
      "execution_count": 7,
      "id": "6cecb181",
      "metadata": {
        "colab": {
          "base_uri": "https://localhost:8080/"
        },
        "id": "6cecb181",
        "outputId": "f5efabb6-912e-409d-f04d-57e079dcd22c"
      },
      "outputs": [
        {
          "output_type": "stream",
          "name": "stdout",
          "text": [
            "Drive already mounted at /content/drive; to attempt to forcibly remount, call drive.mount(\"/content/drive\", force_remount=True).\n"
          ]
        }
      ],
      "source": [
        "# Antes de empezar\n",
        "\n",
        "# Verificar el directorio de trabajo actual\n",
        "#import os\n",
        "#os.getcwd()\n",
        "\n",
        "# Cambiar de directorio\n",
        "#import os\n",
        "#os.chdir('C:\\\\Users\\\\Jonathan\\\\Dropbox\\\\PC (2)\\\\Desktop\\\\clase3')\n",
        "\n",
        "# Los que trabajan en Google Colab\n",
        "#from google.colab import files\n",
        "#uploaded = files.upload()  # Subir archivos manualmente\n",
        "\n",
        "# Usando Drive\n",
        "#from google.colab import drive\n",
        "#drive.mount('/content/drive')\n",
        "\n",
        "# Cambiar al directorio en Google Drive\n",
        "#import os\n",
        "#os.chdir('/content/drive/My Drive/clase3')  # Ajusta esta ruta según la ubicación real de tus archivos\n",
        "\n"
      ]
    },
    {
      "cell_type": "code",
      "source": [
        "# Montar Google Drive nuevamente\n",
        "\n",
        "from google.colab import drive\n",
        "drive.mount('/content/drive', force_remount=True)\n",
        "\n"
      ],
      "metadata": {
        "id": "ODfdKQl2Jz1m",
        "outputId": "53dfde68-5d7f-42fd-f088-3fffffac7daf",
        "colab": {
          "base_uri": "https://localhost:8080/"
        }
      },
      "id": "ODfdKQl2Jz1m",
      "execution_count": 8,
      "outputs": [
        {
          "output_type": "stream",
          "name": "stdout",
          "text": [
            "Mounted at /content/drive\n"
          ]
        }
      ]
    },
    {
      "cell_type": "code",
      "source": [
        "# Verificar la conexión al Drive\n",
        "\n",
        "import os\n",
        "os.chdir('/content/drive/My Drive')  # Cambiar al directorio principal de tu Drive\n",
        "print(os.listdir())  # Listar los archivos y carpetas en el directorio actual\n"
      ],
      "metadata": {
        "id": "YeWk4Z93Jzz0",
        "outputId": "e176c1aa-3ca7-445c-a340-c55b23631133",
        "colab": {
          "base_uri": "https://localhost:8080/"
        }
      },
      "id": "YeWk4Z93Jzz0",
      "execution_count": 10,
      "outputs": [
        {
          "output_type": "stream",
          "name": "stdout",
          "text": [
            "[' ', 'Curso de EVIEWS 7   STATA 12.gsheet', 'Finanzas Avanzadas BCRP', 'REGULACIÓN BANCARIA - BIBLIOGRAFÍA', 'Colab Notebooks', 'Curso básico de Python (1).gform', 'Formulario sin título.gform', '2024. CIES ML', 'clase3']\n"
          ]
        }
      ]
    },
    {
      "cell_type": "code",
      "source": [
        "# Navegar a una carpeta específica\n",
        "\n",
        "os.chdir('/content/drive/My Drive/clase3')  # Cambiar a la carpeta \"clase3\"\n",
        "print(os.listdir())  # Verifica el contenido de la carpeta\n"
      ],
      "metadata": {
        "id": "UaO990vxKZns",
        "outputId": "c27ce624-cca4-45d2-fd6d-6e96c7bfe421",
        "colab": {
          "base_uri": "https://localhost:8080/"
        }
      },
      "id": "UaO990vxKZns",
      "execution_count": 12,
      "outputs": [
        {
          "output_type": "stream",
          "name": "stdout",
          "text": [
            "[]\n"
          ]
        }
      ]
    },
    {
      "cell_type": "markdown",
      "source": [
        "\n",
        "# `open()` y sus modos en Python\n",
        "\n",
        "La función `open()` se utiliza para abrir archivos en Python, y permite especificar diferentes modos dependiendo de la operación que quieras realizar.\n",
        "\n",
        "## Modos comunes de apertura de archivos\n",
        "\n",
        "### **1. `r` (read)**: Modo lectura\n",
        "- Abre el archivo solo para leer su contenido.\n",
        "- **Nota**: El archivo debe existir; si no, lanzará un error.\n",
        "- **Ejemplo**:\n",
        "```python\n",
        "with open('archivo.txt', 'r') as archivo:\n",
        "    contenido = archivo.read()\n",
        "    print(contenido)  # Muestra el contenido del archivo\n",
        "```\n",
        "\n",
        "---\n",
        "\n",
        "### **2. `w` (write)**: Modo escritura\n",
        "- Abre el archivo para escribir datos.\n",
        "- **Nota**:\n",
        "  - Si el archivo no existe, lo crea.\n",
        "  - Si el archivo existe, borra su contenido previo.\n",
        "- **Ejemplo**:\n",
        "```python\n",
        "with open('archivo.txt', 'w') as archivo:\n",
        "    archivo.write(\"Este es un texto nuevo\")\n",
        "```\n",
        "\n",
        "---\n",
        "\n",
        "### **3. `a` (append)**: Modo anexar\n",
        "- Abre el archivo para agregar contenido al final.\n",
        "- **Nota**:\n",
        "  - Si el archivo no existe, lo crea.\n",
        "  - Si el archivo existe, agrega texto sin borrar el contenido previo.\n",
        "- **Ejemplo**:\n",
        "```python\n",
        "with open('archivo.txt', 'a') as archivo:\n",
        "    archivo.write(\"\\nTexto adicional al final del archivo\")\n",
        "```\n",
        "\n",
        "---\n",
        "\n",
        "### **4. `r+` (read/write)**: Modo lectura y escritura\n",
        "- Abre el archivo para leer y escribir datos.\n",
        "- **Nota**:\n",
        "  - Requiere que el archivo ya exista.\n",
        "- **Ejemplo**:\n",
        "```python\n",
        "with open('archivo.txt', 'r+') as archivo:\n",
        "    contenido = archivo.read()\n",
        "    print(\"Antes de escribir:\", contenido)\n",
        "    archivo.write(\"Texto adicional\")\n",
        "```\n",
        "\n",
        "---\n",
        "\n",
        "## Resumen de Modos\n",
        "\n",
        "| Modo | Acción | Requiere que el archivo exista |\n",
        "|------|--------|-------------------------------|\n",
        "| `r`  | Lectura | Sí                           |\n",
        "| `w`  | Escritura (borrar contenido previo) | No |\n",
        "| `a`  | Escritura (anexar al final) | No |\n",
        "| `r+` | Lectura y Escritura | Sí |\n",
        "\n",
        "---\n",
        "\n",
        "### **Consejo: Usa `with` para manejar archivos**\n",
        "El uso de `with` asegura que el archivo se cierre automáticamente después de que termine el bloque de código, incluso si ocurre un error."
      ],
      "metadata": {
        "id": "d01t_fBhK5gE"
      },
      "id": "d01t_fBhK5gE"
    },
    {
      "cell_type": "code",
      "execution_count": 13,
      "id": "0a18061f",
      "metadata": {
        "colab": {
          "base_uri": "https://localhost:8080/",
          "height": 193
        },
        "id": "0a18061f",
        "outputId": "3aff873f-1c57-4b98-c43b-cdead5bb9d7c"
      },
      "outputs": [
        {
          "output_type": "error",
          "ename": "FileNotFoundError",
          "evalue": "[Errno 2] No such file or directory: 'archivo.txt'",
          "traceback": [
            "\u001b[0;31m---------------------------------------------------------------------------\u001b[0m",
            "\u001b[0;31mFileNotFoundError\u001b[0m                         Traceback (most recent call last)",
            "\u001b[0;32m<ipython-input-13-13a675b55aa2>\u001b[0m in \u001b[0;36m<cell line: 2>\u001b[0;34m()\u001b[0m\n\u001b[1;32m      1\u001b[0m \u001b[0;31m# Ejemplo de lectura de archivo usando 'with'\u001b[0m\u001b[0;34m\u001b[0m\u001b[0;34m\u001b[0m\u001b[0m\n\u001b[0;32m----> 2\u001b[0;31m \u001b[0;32mwith\u001b[0m \u001b[0mopen\u001b[0m\u001b[0;34m(\u001b[0m\u001b[0;34m\"archivo.txt\"\u001b[0m\u001b[0;34m,\u001b[0m \u001b[0;34m\"r\"\u001b[0m\u001b[0;34m)\u001b[0m \u001b[0;32mas\u001b[0m \u001b[0mfile\u001b[0m\u001b[0;34m:\u001b[0m\u001b[0;34m\u001b[0m\u001b[0;34m\u001b[0m\u001b[0m\n\u001b[0m\u001b[1;32m      3\u001b[0m     \u001b[0mcontenido\u001b[0m \u001b[0;34m=\u001b[0m \u001b[0mfile\u001b[0m\u001b[0;34m.\u001b[0m\u001b[0mread\u001b[0m\u001b[0;34m(\u001b[0m\u001b[0;34m)\u001b[0m\u001b[0;34m\u001b[0m\u001b[0;34m\u001b[0m\u001b[0m\n\u001b[1;32m      4\u001b[0m     \u001b[0mprint\u001b[0m\u001b[0;34m(\u001b[0m\u001b[0mcontenido\u001b[0m\u001b[0;34m)\u001b[0m\u001b[0;34m\u001b[0m\u001b[0;34m\u001b[0m\u001b[0m\n",
            "\u001b[0;31mFileNotFoundError\u001b[0m: [Errno 2] No such file or directory: 'archivo.txt'"
          ]
        }
      ],
      "source": [
        "\n",
        "# Ejemplo de lectura de archivo usando 'with'\n",
        "with open(\"archivo.txt\", \"r\") as file:\n",
        "    contenido = file.read()\n",
        "    print(contenido)"
      ]
    },
    {
      "cell_type": "markdown",
      "id": "0fd3547c",
      "metadata": {
        "id": "0fd3547c"
      },
      "source": [
        "\n",
        "## Manejo de Archivos de Texto\n",
        "- Lectura completa o línea por línea.\n",
        "- Escritura: Sobrescribir y añadir contenido.\n"
      ]
    },
    {
      "cell_type": "code",
      "execution_count": null,
      "id": "182f829a",
      "metadata": {
        "id": "182f829a",
        "outputId": "91a450ef-5ffa-4386-85e5-3b8ba4e5e804"
      },
      "outputs": [
        {
          "name": "stdout",
          "output_type": "stream",
          "text": [
            "Hola mundo\n",
            "Bienvenidos\n"
          ]
        }
      ],
      "source": [
        "\n",
        "# Leer línea por línea\n",
        "with open(\"archivo.txt\", \"r\") as file:\n",
        "    for line in file:\n",
        "        print(line.strip())\n",
        "\n",
        "\n"
      ]
    },
    {
      "cell_type": "code",
      "execution_count": null,
      "id": "20366a8d",
      "metadata": {
        "id": "20366a8d"
      },
      "outputs": [],
      "source": [
        "# Escribir en el archivo\n",
        "with open(\"archivo.txt\", \"w\") as file:\n",
        "    file.write(\"Nuevo contenido\")"
      ]
    },
    {
      "cell_type": "markdown",
      "id": "01767f1c",
      "metadata": {
        "id": "01767f1c"
      },
      "source": [
        "\n",
        "## Ejemplo Práctico\n",
        "Crear un archivo de texto con nombres de estudiantes y leer el archivo para mostrar los nombres.\n"
      ]
    },
    {
      "cell_type": "code",
      "execution_count": null,
      "id": "9769a6ac",
      "metadata": {
        "id": "9769a6ac"
      },
      "outputs": [],
      "source": [
        "\n",
        "# Crear y escribir en archivo\n",
        "with open(\"estudiantes.txt\", \"w\") as file:\n",
        "    file.write(\"Juan\\nMaria\\nPedro\")\n",
        "\n"
      ]
    },
    {
      "cell_type": "code",
      "execution_count": null,
      "id": "da2c4073",
      "metadata": {
        "id": "da2c4073",
        "outputId": "77f4fe31-a4b3-4dcd-f733-202843fab292"
      },
      "outputs": [
        {
          "name": "stdout",
          "output_type": "stream",
          "text": [
            "Juan\n",
            "Maria\n",
            "Pedro\n"
          ]
        }
      ],
      "source": [
        "# Leer el archivo\n",
        "with open(\"estudiantes.txt\", \"r\") as file:\n",
        "    print(file.read())"
      ]
    },
    {
      "cell_type": "markdown",
      "id": "aa5bfd66",
      "metadata": {
        "id": "aa5bfd66"
      },
      "source": [
        "\n",
        "## Manejo de Archivos CSV\n",
        "- Formato CSV: Estructura y utilidad.\n",
        "- Lectura y escritura usando el módulo `csv`.\n"
      ]
    },
    {
      "cell_type": "code",
      "execution_count": null,
      "id": "00cf4d07",
      "metadata": {
        "id": "00cf4d07",
        "outputId": "2d771d48-8025-415c-917d-17410d08abc8"
      },
      "outputs": [
        {
          "name": "stdout",
          "output_type": "stream",
          "text": [
            "['ID;Campus']\n",
            "['1200084;Trujillo']\n"
          ]
        }
      ],
      "source": [
        "\n",
        "import csv\n",
        "\n",
        "# Leer CSV\n",
        "with open(\"data.csv\", \"r\") as file:\n",
        "    reader = csv.reader(file)\n",
        "    for row in reader:\n",
        "        print(row)\n",
        "\n",
        "\n"
      ]
    },
    {
      "cell_type": "code",
      "execution_count": null,
      "id": "5cf7e428",
      "metadata": {
        "id": "5cf7e428"
      },
      "outputs": [],
      "source": [
        "# Escribir en CSV\n",
        "with open(\"data.csv\", \"w\", newline='') as file:\n",
        "    writer = csv.writer(file)\n",
        "    writer.writerow([\"Nombre\", \"Edad\"])\n",
        "    writer.writerow([\"Juan\", 25])"
      ]
    },
    {
      "cell_type": "markdown",
      "id": "036478eb",
      "metadata": {
        "id": "036478eb"
      },
      "source": [
        "\n",
        "## Ejercicio de Integración\n",
        "Crear un programa que almacene y actualice un archivo CSV con datos de inventario.\n",
        "\n",
        "- Objetivo: Practicar la creación, lectura y actualización de archivos CSV.\n"
      ]
    },
    {
      "cell_type": "code",
      "execution_count": null,
      "id": "167f7051",
      "metadata": {
        "id": "167f7051"
      },
      "outputs": [],
      "source": [
        "\n",
        "import csv\n",
        "\n",
        "# Agregar datos al CSV\n",
        "with open(\"inventario.csv\", \"a\", newline='') as file:\n",
        "    writer = csv.writer(file)\n",
        "    writer.writerow([\"Producto\", \"Cantidad\", \"Precio\"])\n",
        "    writer.writerow([\"Lápiz\", 100, 0.5])\n"
      ]
    }
  ],
  "metadata": {
    "kernelspec": {
      "display_name": "Python 3",
      "language": "python",
      "name": "python3"
    },
    "language_info": {
      "codemirror_mode": {
        "name": "ipython",
        "version": 3
      },
      "file_extension": ".py",
      "mimetype": "text/x-python",
      "name": "python",
      "nbconvert_exporter": "python",
      "pygments_lexer": "ipython3",
      "version": "3.10.11"
    },
    "colab": {
      "provenance": []
    }
  },
  "nbformat": 4,
  "nbformat_minor": 5
}