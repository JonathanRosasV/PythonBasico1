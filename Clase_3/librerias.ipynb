{
 "cells": [
  {
   "cell_type": "markdown",
   "metadata": {},
   "source": [
    "# Librerías esenciales para analisis de datos"
   ]
  },
  {
   "cell_type": "markdown",
   "metadata": {},
   "source": [
    "## 1. Manejo y limpieza de datos\n",
    "\n",
    "### **`pandas`**\n",
    "- Manipulación y análisis de datos tabulares (estructurados).\n",
    "- Facilita la carga de archivos como CSV, Excel, SQL, etc.\n",
    "- Ideal para trabajar con paneles o series temporales.\n",
    "\n",
    "**Instalación:**\n",
    "```bash\n",
    "pip install pandas\n",
    "```\n",
    "\n",
    "### **`numpy`**\n",
    "- Manejo de matrices y arreglos multidimensionales.\n",
    "- Base para otras librerías científicas.\n",
    "\n",
    "**Instalación:**\n",
    "```bash\n",
    "pip install numpy\n",
    "```"
   ]
  },
  {
   "cell_type": "markdown",
   "metadata": {},
   "source": [
    "## 2. Estadística, econometría y modelado\n",
    "\n",
    "### **`statsmodels`**\n",
    "- Herramientas econométricas como regresiones lineales, ARIMA, pruebas estadísticas, entre otros.\n",
    "- Diseñada para análisis econométricos y series de tiempo.\n",
    "\n",
    "**Instalación:**\n",
    "```bash\n",
    "pip install statsmodels\n",
    "```\n",
    "\n",
    "### **`scipy`**\n",
    "- Métodos avanzados de estadística, optimización y álgebra lineal.\n",
    "- Complementa a `numpy`.\n",
    "\n",
    "**Instalación:**\n",
    "```bash\n",
    "pip install scipy\n",
    "```"
   ]
  },
  {
   "cell_type": "markdown",
   "metadata": {},
   "source": [
    "## 3. Visualización de datos\n",
    "\n",
    "### **`matplotlib`**\n",
    "- Gráficos básicos como líneas, barras y dispersión.\n",
    "- Personalizable para presentaciones formales.\n",
    "\n",
    "**Instalación:**\n",
    "```bash\n",
    "pip install matplotlib\n",
    "```\n",
    "\n",
    "### **`seaborn`**\n",
    "- Visualizaciones estadísticas de alto nivel basadas en `matplotlib`.\n",
    "- Gráficos como distribuciones, heatmaps y correlaciones.\n",
    "\n",
    "**Instalación:**\n",
    "```bash\n",
    "pip install seaborn\n",
    "```\n",
    "\n",
    "### **`plotly`**\n",
    "- Visualizaciones interactivas y avanzadas.\n",
    "- Útil para presentar datos económicos de manera dinámica.\n",
    "\n",
    "**Instalación:**\n",
    "```bash\n",
    "pip install plotly\n",
    "```"
   ]
  },
  {
   "cell_type": "markdown",
   "metadata": {},
   "source": [
    "## 4. Series de tiempo\n",
    "\n",
    "### **`pmdarima`**\n",
    "- Automatización de modelos ARIMA.\n",
    "- Simplifica el modelado de series temporales.\n",
    "\n",
    "**Instalación:**\n",
    "```bash\n",
    "pip install pmdarima\n",
    "```\n",
    "\n",
    "### **`arch`**\n",
    "- Modelos ARCH y GARCH para volatilidad financiera.\n",
    "- Fundamental para análisis de riesgos y econometría financiera.\n",
    "\n",
    "**Instalación:**\n",
    "```bash\n",
    "pip install arch\n",
    "```"
   ]
  },
  {
   "cell_type": "markdown",
   "metadata": {},
   "source": [
    "## 5. Optimización y matemáticas avanzadas\n",
    "\n",
    "### **`cvxpy`**\n",
    "- Optimización convexa para problemas como maximización de utilidad o portafolios.\n",
    "\n",
    "**Instalación:**\n",
    "```bash\n",
    "pip install cvxpy\n",
    "```\n",
    "\n",
    "### **`sympy`**\n",
    "- Álgebra simbólica y cálculo simbólico.\n",
    "- Ideal para resolver ecuaciones económicas y derivadas simbólicas.\n",
    "\n",
    "**Instalación:**\n",
    "```bash\n",
    "pip install sympy\n",
    "```"
   ]
  },
  {
   "cell_type": "markdown",
   "metadata": {},
   "source": [
    "## 6. Trabajar con datos grandes\n",
    "\n",
    "### **`dask`**\n",
    "- Manejo de datos más allá de la memoria disponible.\n",
    "- Ideal para análisis en paralelo.\n",
    "\n",
    "**Instalación:**\n",
    "```bash\n",
    "pip install dask\n",
    "```\n",
    "\n",
    "### **`pyarrow` y `fastparquet`**\n",
    "- Lectura y escritura de datos en formato `Parquet`, optimizado para grandes volúmenes.\n",
    "\n",
    "**Instalación:**\n",
    "```bash\n",
    "pip install pyarrow fastparquet\n",
    "```"
   ]
  },
  {
   "cell_type": "markdown",
   "metadata": {},
   "source": [
    "## 7. APIs y scraping\n",
    "\n",
    "### **`requests`**\n",
    "- Realizar solicitudes HTTP para extraer datos de APIs.\n",
    "\n",
    "**Instalación:**\n",
    "```bash\n",
    "pip install requests\n",
    "```\n",
    "\n",
    "### **`beautifulsoup4`**\n",
    "- Scraping para obtener datos de sitios web (si está permitido).\n",
    "\n",
    "**Instalación:**\n",
    "```bash\n",
    "pip install beautifulsoup4\n",
    "```"
   ]
  }
 ],
 "metadata": {
  "kernelspec": {
   "display_name": "Python 3",
   "language": "python",
   "name": "python3"
  },
  "language_info": {
   "codemirror_mode": {
    "name": "ipython",
    "version": 3
   },
   "file_extension": ".py",
   "mimetype": "text/x-python",
   "name": "python",
   "nbconvert_exporter": "python",
   "pygments_lexer": "ipython3",
   "version": "3.8.10"
  }
 },
 "nbformat": 4,
 "nbformat_minor": 4
}
